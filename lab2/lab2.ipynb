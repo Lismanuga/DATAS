{
 "cells": [
  {
   "cell_type": "code",
   "execution_count": null,
   "metadata": {
    "collapsed": true
   },
   "outputs": [],
   "source": [
    "import pandas as pd\n",
    "import seaborn\n",
    "from matplotlib import pyplot as plt\n",
    "import os"
   ]
  },
  {
   "cell_type": "code",
   "execution_count": null,
   "metadata": {
    "collapsed": false
   },
   "outputs": [],
   "source": [
    "data_dir = \"./data/\"\n",
    "data = []\n",
    "for file in os.listdir(data_dir):\n",
    "    data_raw = pd.read_excel(data_dir + file, skiprows=4)\n",
    "    data_raw.columns = [column.lower().replace(\"\\n\", \"\").replace(\" \", \"_\").replace(\"-\", \"_\").strip() for column in data_raw.columns]\n",
    "    data.append(data_raw)\n",
    "    \n",
    "data = pd.concat(data)\n",
    "print(data.columns)"
   ]
  },
  {
   "cell_type": "code",
   "execution_count": null,
   "metadata": {
    "collapsed": false
   },
   "outputs": [],
   "source": [
    "def get_region(region):\n",
    "    if region == 1:\n",
    "        return \"Manhattan\"\n",
    "    elif region == 2:\n",
    "        return \"Bronx\"\n",
    "    elif region == 3:\n",
    "        return \"Brooklyn\"\n",
    "    elif region == 4:\n",
    "        return \"Queens\"\n",
    "    elif region == 5:\n",
    "        return \"Staten Island\"\n",
    "\n",
    "\n",
    "data.insert(1, \"district\", [get_region(a) for a in data.region])\n",
    "data"
   ]
  },
  {
   "cell_type": "code",
   "execution_count": null,
   "metadata": {
    "collapsed": false
   },
   "outputs": [],
   "source": [
    "data.info()"
   ]
  },
  {
   "cell_type": "code",
   "execution_count": null,
   "metadata": {
    "collapsed": false
   },
   "outputs": [],
   "source": [
    "free_houses = data[(data.total_units > 0) & (data.land_square_feet > 0)]\n",
    "free_houses['quantile'] = pd.qcut(free_houses['saleprice'], 10, labels=False, duplicates='drop')\n",
    "free_houses = free_houses[(free_houses['quantile'] > 0) & (free_houses['quantile'] < 10)].drop(columns=\"quantile\")\n",
    "free_houses['year_quarter'] = free_houses.sale_date.apply(lambda x: f\"{x.year}-{x.quarter}\")\n",
    "free_houses"
   ]
  },
  {
   "cell_type": "code",
   "execution_count": null,
   "metadata": {
    "collapsed": false
   },
   "outputs": [],
   "source": [
    "free_houses['price_per_lsf'] = free_houses.saleprice / free_houses.land_square_feet\n",
    "free_houses"
   ]
  },
  {
   "cell_type": "code",
   "execution_count": null,
   "metadata": {
    "collapsed": false
   },
   "outputs": [],
   "source": [
    "houses_for_plot = free_houses.drop(\n",
    "    columns=[\"sale_date\", \"address\", \"zip_code\", \"block\", \"lot\", \"ease_ment\", \"building_class_at_present\",\"residential_units\", \"commercial_units\", \"total_units\", \"year_built\"])\n",
    "houses_for_plot"
   ]
  },
  {
   "cell_type": "code",
   "execution_count": null,
   "metadata": {
    "collapsed": false
   },
   "outputs": [],
   "source": [
    "houses_by_year = houses_for_plot.groupby([\"year_quarter\"]).mean()\n",
    "houses_by_year"
   ]
  },
  {
   "cell_type": "code",
   "execution_count": null,
   "metadata": {
    "collapsed": false
   },
   "outputs": [],
   "source": [
    "houses_by_year.price_per_lsf.plot(kind=\"bar\")"
   ]
  },
  {
   "cell_type": "code",
   "execution_count": null,
   "metadata": {
    "collapsed": false
   },
   "outputs": [],
   "source": [
    "houses_by_region = houses_for_plot.groupby(['district', 'year_quarter'], as_index=False).mean()\n",
    "houses_by_region"
   ]
  },
  {
   "cell_type": "code",
   "execution_count": null,
   "metadata": {
    "collapsed": false
   },
   "outputs": [],
   "source": [
    "fig = plt.figure()\n",
    "ax = fig.add_subplot(111)\n",
    "ax = seaborn.lineplot(data=houses_by_region, x=houses_by_region.year_quarter, y=houses_by_region.price_per_lsf,hue=houses_by_region.district)\n",
    "seaborn.move_legend(ax, \"upper left\", bbox_to_anchor=(1, 1))"
   ]
  },
  {
   "cell_type": "code",
   "execution_count": null,
   "metadata": {
    "collapsed": false
   },
   "outputs": [],
   "source": []
  }
 ],
 "metadata": {
  "kernelspec": {
   "display_name": "Python 3",
   "language": "python",
   "name": "python3"
  },
  "language_info": {
   "codemirror_mode": {
    "name": "ipython",
    "version": 2
   },
   "file_extension": ".py",
   "mimetype": "text/x-python",
   "name": "python",
   "nbconvert_exporter": "python",
   "pygments_lexer": "ipython2",
   "version": "2.7.6"
  }
 },
 "nbformat": 4,
 "nbformat_minor": 0
}
