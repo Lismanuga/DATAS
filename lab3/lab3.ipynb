{
 "cells": [
  {
   "cell_type": "code",
   "execution_count": null,
   "metadata": {
    "collapsed": true
   },
   "outputs": [],
   "source": [
    "import pandas as pd\n",
    "import seaborn\n",
    "import sklearn\n",
    "import sklearn.ensemble\n",
    "import sklearn.compose\n",
    "from sklearn.preprocessing import *\n",
    "from matplotlib import pyplot as plt\n",
    "import numpy as np\n",
    "from sklearn.feature_selection import VarianceThreshold\n",
    "import os"
   ]
  },
  {
   "cell_type": "code",
   "execution_count": null,
   "metadata": {
    "collapsed": false
   },
   "outputs": [],
   "source": [
    "data = pd.read_csv(\"data/Automobile_data.csv\")\n",
    "display(data)\n",
    "data[data[\"normalized-losses\"] == \"?\"]"
   ]
  },
  {
   "cell_type": "code",
   "execution_count": null,
   "metadata": {
    "collapsed": false
   },
   "outputs": [],
   "source": [
    "data_with_none = data.replace('?', None)\n",
    "\n",
    "def find_meaning(df, grouping, column):\n",
    "    mean = {}\n",
    "    for index, row in df.iterrows():\n",
    "        if row[column] is None:\n",
    "            continue\n",
    "        if row[grouping] not in mean:\n",
    "            mean[row[grouping]] = np.array([])\n",
    "        mean[row[grouping]] = np.append(mean[row[grouping]], [float(row[column])])\n",
    "    for group, values in mean.items():\n",
    "        mean[group] = np.mean(mean[group])\n",
    "    return mean\n",
    "\n",
    "mean_symbols = find_meaning(data_with_none, \"symboling\", \"normalized-losses\")\n",
    "mean_curb = find_meaning(data_with_none, \"curb-weight\", \"price\")\n",
    "display(mean_symbols)\n",
    "display(mean_curb)"
   ]
  },
  {
   "cell_type": "code",
   "execution_count": null,
   "metadata": {
    "collapsed": false
   },
   "outputs": [],
   "source": [
    "\n",
    "def replace_with_meaning(row):\n",
    "    \n",
    "    if row[\"normalized-losses\"] is None:\n",
    "        symbol = row[\"symboling\"]\n",
    "        row[\"normalized-losses\"] = mean_symbols[symbol]\n",
    "    if row[\"price\"] is None:\n",
    "        row[\"price\"] = mean_curb[row[\"curb-weight\"]] if row[\"curb-weight\"] in mean_curb else None\n",
    "    return row\n",
    "\n",
    "filtered_data = data_with_none.apply(lambda row: replace_with_meaning(row), axis = 1).dropna()\n",
    "filtered_data"
   ]
  },
  {
   "cell_type": "code",
   "execution_count": null,
   "metadata": {
    "collapsed": false
   },
   "outputs": [],
   "source": [
    "changed_data = filtered_data\n",
    "changed_data['symboling'] = MinMaxScaler().fit_transform(changed_data['symboling'].values.reshape((-1, 1)))\n",
    "changed_data['make'] = LabelEncoder().fit_transform(changed_data['make'].values)\n",
    "changed_data['fuel-type'] = LabelEncoder().fit_transform(changed_data['fuel-type'].values)\n",
    "changed_data['aspiration'] = LabelEncoder().fit_transform(changed_data['aspiration'].values)\n",
    "changed_data['num-of-doors'] = LabelEncoder().fit_transform(changed_data['num-of-doors'].values)\n",
    "changed_data['body-style'] = LabelEncoder().fit_transform(changed_data['body-style'].values)\n",
    "changed_data['drive-wheels'] = LabelEncoder().fit_transform(changed_data['drive-wheels'].values)\n",
    "changed_data['engine-location'] = LabelEncoder().fit_transform(changed_data['engine-location'].values)\n",
    "changed_data['engine-type'] = LabelEncoder().fit_transform(changed_data['engine-type'].values)\n",
    "changed_data['fuel-system'] = LabelEncoder().fit_transform(changed_data['fuel-system'].values)\n",
    "changed_data['num-of-cylinders'] = LabelEncoder().fit_transform(changed_data['num-of-cylinders'].values)\n",
    "changed_data['price'] = changed_data['price'].apply(lambda x: float(x))\n",
    "changed_data['normalized-losses'] = changed_data['normalized-losses'].apply(lambda x: float(x))\n",
    "display(changed_data)\n",
    "changed_data[\"engine-location\"].unique()"
   ]
  },
  {
   "cell_type": "code",
   "execution_count": null,
   "metadata": {
    "collapsed": false
   },
   "outputs": [],
   "source": [
    "cleaned_auto_data = changed_data[filtered_data.price < filtered_data.price.quantile(0.9)]\n",
    "cleaned_auto_data"
   ]
  },
  {
   "cell_type": "code",
   "execution_count": null,
   "metadata": {
    "collapsed": false
   },
   "outputs": [],
   "source": [
    "\n",
    "columns_array = changed_data.columns\n",
    "selection = VarianceThreshold(threshold=(.8 * (1 - 0.8)))\n",
    "selected_data = selection.fit_transform(cleaned_auto_data.drop([\"price\"], axis=1), cleaned_auto_data[\"price\"])\n",
    "selected_features = selection.get_feature_names_out(columns_array[:len(columns_array) - 1])\n",
    "selected_data = pd.DataFrame(selected_data, columns=selected_features)\n",
    "deleted_features = np.array([], dtype=str)\n",
    "for feature in columns_array[:len(columns_array) - 1]:\n",
    "    if feature not in selected_features:\n",
    "        deleted_features = np.append(deleted_features, feature)\n",
    "\n",
    "display(pd.DataFrame(selected_features))\n",
    "display(pd.DataFrame(deleted_features))\n",
    "display(selected_data)"
   ]
  },
  {
   "cell_type": "code",
   "execution_count": null,
   "metadata": {
    "collapsed": false
   },
   "outputs": [],
   "source": [
    "kbest = sklearn.feature_selection.SelectKBest(sklearn.feature_selection.chi2, k=5)\n",
    "changed_data_kbest = kbest.fit_transform(cleaned_auto_data.drop([\"price\"], axis=1),cleaned_auto_data[\"price\"])\n",
    "selected_features = kbest.get_feature_names_out(columns_array[:len(columns_array) - 1])\n",
    "changed_data_kbest = pd.DataFrame(changed_data_kbest, columns=selected_features)\n",
    "changed_data_kbest"
   ]
  },
  {
   "cell_type": "code",
   "execution_count": null,
   "metadata": {
    "collapsed": false
   },
   "outputs": [],
   "source": [
    "tree_classifier = sklearn.ensemble.RandomForestRegressor(n_estimators=50)\n",
    "tree_classifier.fit(cleaned_auto_data.drop([\"price\"], axis=1),cleaned_auto_data[\"price\"])\n",
    "model = sklearn.feature_selection.SelectFromModel(tree_classifier, prefit=True)\n",
    "forest_selected_data = model.transform(cleaned_auto_data.drop([\"price\"], axis=1))\n",
    "forest_selected_data"
   ]
  },
  {
   "cell_type": "code",
   "execution_count": null,
   "metadata": {
    "collapsed": false
   },
   "outputs": [],
   "source": [
    "feature_importances = tree_classifier.feature_importances_\n",
    "indices = np.argsort(feature_importances)\n",
    "plt.yticks(range(len(indices)), np.array(cleaned_auto_data.drop([\"price\"], axis=1).columns)[indices])\n",
    "plt.barh(range(len(indices)), feature_importances[indices])\n",
    "plt.show()"
   ]
  },
  {
   "cell_type": "code",
   "execution_count": null,
   "metadata": {
    "collapsed": false
   },
   "outputs": [],
   "source": [
    "correlation = cleaned_auto_data.corr()\n",
    "display(correlation)\n",
    "seaborn.heatmap(correlation)"
   ]
  },
  {
   "cell_type": "code",
   "execution_count": null,
   "metadata": {
    "collapsed": false
   },
   "outputs": [],
   "source": []
  }
 ],
 "metadata": {
  "kernelspec": {
   "display_name": "Python 3",
   "language": "python",
   "name": "python3"
  },
  "language_info": {
   "codemirror_mode": {
    "name": "ipython",
    "version": 2
   },
   "file_extension": ".py",
   "mimetype": "text/x-python",
   "name": "python",
   "nbconvert_exporter": "python",
   "pygments_lexer": "ipython2",
   "version": "2.7.6"
  }
 },
 "nbformat": 4,
 "nbformat_minor": 0
}
