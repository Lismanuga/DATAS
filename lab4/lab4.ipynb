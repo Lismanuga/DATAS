{
 "cells": [
  {
   "cell_type": "code",
   "execution_count": null,
   "metadata": {
    "collapsed": true
   },
   "outputs": [],
   "source": [
    "import kneed\n",
    "import numpy as np\n",
    "import pandas as pd\n",
    "import sklearn.preprocessing\n",
    "from matplotlib import pyplot as plt\n",
    "from sklearn import cluster"
   ]
  },
  {
   "cell_type": "code",
   "execution_count": null,
   "metadata": {
    "collapsed": false
   },
   "outputs": [],
   "source": [
    "data = pd.read_csv('data/Country-data.csv')\n",
    "data"
   ]
  },
  {
   "cell_type": "code",
   "execution_count": null,
   "metadata": {
    "collapsed": false
   },
   "outputs": [],
   "source": [
    "data.info()"
   ]
  },
  {
   "cell_type": "code",
   "execution_count": null,
   "metadata": {
    "collapsed": false
   },
   "outputs": [],
   "source": [
    "data.isnull().sum()"
   ]
  },
  {
   "cell_type": "code",
   "execution_count": null,
   "metadata": {
    "collapsed": false
   },
   "outputs": [],
   "source": [
    "data.describe()"
   ]
  },
  {
   "cell_type": "code",
   "execution_count": null,
   "metadata": {
    "collapsed": false
   },
   "outputs": [],
   "source": [
    "gdp_data = data[data.gdpp < data.gdpp.quantile(0.9)]\n",
    "gdp_data"
   ]
  },
  {
   "cell_type": "code",
   "execution_count": null,
   "metadata": {
    "collapsed": false
   },
   "outputs": [],
   "source": [
    "columns = {\n",
    "    'child_mort': False,\n",
    "    'exports': True,\n",
    "    'health': True,\n",
    "    'imports': True,\n",
    "    'inflation': False,\n",
    "    'life_expec': True,\n",
    "    'total_fer': True,\n",
    "    'gdpp': True\n",
    "}\n",
    "gdp_without_country = gdp_data.drop([\"country\"], axis=1)\n",
    "scaler = sklearn.preprocessing.MinMaxScaler()\n",
    "gdp_data_normalized = scaler.fit_transform(gdp_without_country)\n",
    "gdp_data_normalized = pd.DataFrame(gdp_data_normalized, columns=gdp_without_country.columns,\n",
    "                                   index=gdp_without_country.index)\n",
    "for column in columns:\n",
    "    if not columns[column]:\n",
    "        gdp_data_normalized[column] = gdp_data_normalized[column].apply(lambda x: 1 - x)\n",
    "\n",
    "gdp_data_normalized"
   ]
  },
  {
   "cell_type": "code",
   "execution_count": null,
   "metadata": {
    "collapsed": false
   },
   "outputs": [],
   "source": [
    "income_gdpp = gdp_data_normalized[[\"income\", \"gdpp\", \"child_mort\"]]\n",
    "income_gdpp"
   ]
  },
  {
   "cell_type": "code",
   "execution_count": null,
   "metadata": {
    "collapsed": false
   },
   "outputs": [],
   "source": [
    "income_gdpp_sort = income_gdpp.sort_values(by=[\"income\", \"gdpp\"])\n",
    "df_distance = pd.DataFrame(columns=[\"index\", \"distance\"])\n",
    "for i in range(0, len(income_gdpp_sort) - 1):\n",
    "    dist = np.linalg.norm(income_gdpp_sort.iloc[i] - income_gdpp_sort.iloc[i + 1])\n",
    "    df_distance = df_distance.append({'index': str(i), 'distance': dist}, ignore_index=True)\n",
    "df_distance = df_distance.sort_values(by=[\"distance\"])\n",
    "plt.scatter(df_distance[\"index\"], df_distance[\"distance\"])\n",
    "plt.show()"
   ]
  },
  {
   "cell_type": "code",
   "execution_count": null,
   "metadata": {
    "collapsed": false
   },
   "outputs": [],
   "source": [
    "df_distance2 = df_distance[df_distance['distance'] < 0.25]\n",
    "df_distance2 = df_distance2.sort_values(by=[\"distance\"])\n",
    "plt.scatter(df_distance2[\"index\"], df_distance2[\"distance\"])\n",
    "plt.show()"
   ]
  },
  {
   "cell_type": "code",
   "execution_count": null,
   "metadata": {
    "collapsed": false
   },
   "outputs": [],
   "source": [
    "range = (0.05 + x * 0.05 for x in range(5))\n",
    "for i in range:\n",
    "    db = sklearn.cluster.DBSCAN(eps=i, min_samples=5).fit(income_gdpp)\n",
    "    core_samples_mask = np.zeros_like(db.labels_, dtype=bool)\n",
    "    core_samples_mask[db.core_sample_indices_] = True\n",
    "    labels = db.labels_\n",
    "    print(set(labels))\n",
    "    silhoutte_avg = sklearn.metrics.silhouette_score(income_gdpp, labels)\n",
    "    print(f\"For eps={i} average silhouette score is {silhoutte_avg}\")"
   ]
  },
  {
   "cell_type": "code",
   "execution_count": null,
   "metadata": {
    "collapsed": false
   },
   "outputs": [],
   "source": [
    "data_dbscaning = sklearn.cluster.DBSCAN(eps=0.2, min_samples=20).fit_predict(income_gdpp)\n",
    "plt.scatter(income_gdpp[\"income\"], income_gdpp[\"gdpp\"], c=data_dbscaning,\n",
    "            s=50, cmap='viridis')\n",
    "plt.show()\n",
    "plt.scatter(income_gdpp[\"child_mort\"], income_gdpp[\"gdpp\"], c=data_dbscaning,\n",
    "            s=50, cmap='viridis')\n",
    "plt.show()\n",
    "plt.scatter(income_gdpp[\"income\"], income_gdpp[\"child_mort\"], c=data_dbscaning,\n",
    "            s=50, cmap='viridis')\n",
    "plt.show()"
   ]
  },
  {
   "cell_type": "code",
   "execution_count": null,
   "metadata": {
    "collapsed": false
   },
   "outputs": [],
   "source": [
    "kmeans_kwargs = {\n",
    "    \"init\": \"random\",\n",
    "    \"n_init\": 10,\n",
    "    \"max_iter\": 300,\n",
    "    \"random_state\": 42,\n",
    "}\n",
    "\n",
    "\n",
    "SSE_values = []\n",
    "for k in range(1, 11):\n",
    "    kmeans = cluster.KMeans(n_clusters=k, **kmeans_kwargs)\n",
    "    kmeans.fit(income_gdpp)\n",
    "    SSE_values.append(kmeans.inertia_)\n",
    "\n",
    "plt.style.use(\"fivethirtyeight\")\n",
    "plt.plot(range(1, 11), SSE_values)\n",
    "plt.xticks(range(1, 11))\n",
    "plt.xlabel(\"Number of Clusters\")\n",
    "plt.ylabel(\"SSE\")\n",
    "plt.show()"
   ]
  },
  {
   "cell_type": "code",
   "execution_count": null,
   "metadata": {
    "collapsed": false
   },
   "outputs": [],
   "source": [
    "kl = kneed.KneeLocator(range(1, 11), SSE_values, curve=\"convex\", direction=\"decreasing\")\n",
    "clusters_num = kl.elbow\n",
    "clusters_num"
   ]
  },
  {
   "cell_type": "code",
   "execution_count": null,
   "metadata": {
    "collapsed": false
   },
   "outputs": [],
   "source": [
    "gdp_kmeans_labels = cluster.KMeans(clusters_num).fit_predict(income_gdpp)\n",
    "plt.scatter(income_gdpp[\"income\"], income_gdpp[\"gdpp\"], c=gdp_kmeans_labels,\n",
    "            s=50, cmap='viridis')\n",
    "plt.show()\n",
    "plt.scatter(income_gdpp[\"child_mort\"], income_gdpp[\"gdpp\"], c=gdp_kmeans_labels,\n",
    "            s=50, cmap='viridis')\n",
    "plt.show()\n",
    "plt.scatter(income_gdpp[\"income\"], income_gdpp[\"child_mort\"], c=gdp_kmeans_labels,\n",
    "            s=50, cmap='viridis')\n",
    "plt.show()"
   ]
  },
  {
   "cell_type": "code",
   "execution_count": null,
   "metadata": {
    "collapsed": false
   },
   "outputs": [],
   "source": [
    "gdp_spectral_labels = cluster.SpectralClustering(n_clusters=clusters_num, affinity=\"nearest_neighbors\", assign_labels=\"kmeans\").fit_predict(income_gdpp)\n",
    "plt.scatter(income_gdpp[\"income\"], income_gdpp[\"gdpp\"], c=gdp_spectral_labels,\n",
    "            s=50, cmap='viridis')\n",
    "plt.show()\n",
    "plt.scatter(income_gdpp[\"child_mort\"], income_gdpp[\"gdpp\"], c=gdp_spectral_labels,\n",
    "            s=50, cmap='viridis')\n",
    "plt.show()\n",
    "plt.scatter(income_gdpp[\"income\"], income_gdpp[\"child_mort\"], c=gdp_spectral_labels,\n",
    "            s=50, cmap='viridis')\n",
    "plt.show()"
   ]
  },
  {
   "cell_type": "code",
   "execution_count": null,
   "metadata": {
    "collapsed": false
   },
   "outputs": [],
   "source": [
    "gdp_mini_kmeans_labels = cluster.MiniBatchKMeans(clusters_num).fit_predict(income_gdpp)\n",
    "plt.scatter(income_gdpp[\"income\"], income_gdpp[\"gdpp\"], c=gdp_mini_kmeans_labels,\n",
    "            s=50, cmap='viridis')\n",
    "plt.show()\n",
    "plt.scatter(income_gdpp[\"child_mort\"], income_gdpp[\"gdpp\"], c=gdp_mini_kmeans_labels,\n",
    "            s=50, cmap='viridis')\n",
    "plt.show()\n",
    "plt.scatter(income_gdpp[\"income\"], income_gdpp[\"child_mort\"], c=gdp_mini_kmeans_labels,\n",
    "            s=50, cmap='viridis')\n",
    "plt.show()"
   ]
  }
 ],
 "metadata": {
  "kernelspec": {
   "display_name": "Python 3",
   "language": "python",
   "name": "python3"
  },
  "language_info": {
   "codemirror_mode": {
    "name": "ipython",
    "version": 2
   },
   "file_extension": ".py",
   "mimetype": "text/x-python",
   "name": "python",
   "nbconvert_exporter": "python",
   "pygments_lexer": "ipython2",
   "version": "2.7.6"
  }
 },
 "nbformat": 4,
 "nbformat_minor": 0
}
