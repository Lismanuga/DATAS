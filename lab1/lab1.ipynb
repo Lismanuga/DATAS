{
 "cells": [
  {
   "cell_type": "code",
   "execution_count": null,
   "metadata": {
    "collapsed": true
   },
   "outputs": [],
   "source": [
    "import matplotlib.pyplot as plt\n",
    "import pandas as pd\n",
    "import seaborn"
   ]
  },
  {
   "cell_type": "code",
   "execution_count": null,
   "metadata": {
    "collapsed": false
   },
   "outputs": [],
   "source": [
    "data = pd.read_csv(\"./data/nyt7.csv\")\n",
    "data"
   ]
  },
  {
   "cell_type": "code",
   "execution_count": null,
   "metadata": {
    "collapsed": false
   },
   "outputs": [],
   "source": [
    "data.Age.unique()"
   ]
  },
  {
   "cell_type": "code",
   "execution_count": null,
   "metadata": {
    "collapsed": false
   },
   "outputs": [],
   "source": [
    "data.isnull().sum()"
   ]
  },
  {
   "cell_type": "code",
   "execution_count": null,
   "metadata": {
    "collapsed": false
   },
   "outputs": [],
   "source": [
    "data.info()"
   ]
  },
  {
   "cell_type": "code",
   "execution_count": null,
   "metadata": {
    "collapsed": false
   },
   "outputs": [],
   "source": [
    "data[data.Age == 0].groupby(\"Age\").count()"
   ]
  },
  {
   "cell_type": "code",
   "execution_count": null,
   "metadata": {
    "collapsed": false
   },
   "outputs": [],
   "source": [
    "data_not_null_age = data[(data.Age > 0)]\n",
    "data_not_null_age.Age.hist()"
   ]
  },
  {
   "cell_type": "code",
   "execution_count": null,
   "metadata": {
    "collapsed": false
   },
   "outputs": [],
   "source": [
    "data_not_null_age.Signed_In.unique()"
   ]
  },
  {
   "cell_type": "code",
   "execution_count": null,
   "metadata": {
    "collapsed": false
   },
   "outputs": [],
   "source": [
    "def group_by_age(age):\n",
    "    match age:\n",
    "        case x if x < 18:\n",
    "            return \"0-18\"\n",
    "        case x if 18 <= x <= 24:\n",
    "            return \"18-24\"\n",
    "        case x if 25 <= x <= 34:\n",
    "            return \"25-34\"\n",
    "        case x if 35 <= x <= 44:\n",
    "            return \"35-44\"\n",
    "        case x if 45 <= x <= 54:\n",
    "            return \"45-54\"\n",
    "        case x if 55 <= x <= 64:\n",
    "            return \"55-64\"\n",
    "        case x if x >= 65:\n",
    "            return \"65+\"\n",
    "\n",
    "\n",
    "def check_gender(gender):\n",
    "    if gender == 0:\n",
    "        return \"Female\"\n",
    "    else:\n",
    "        return \"Male\"\n",
    "\n",
    "\n",
    "group_data = data_not_null_age\n",
    "group_data['AgeGroup'] = data_not_null_age.Age.apply(lambda row: group_by_age(row))\n",
    "group_data = group_data.sort_values(by=['AgeGroup'])\n",
    "group_data"
   ]
  },
  {
   "cell_type": "code",
   "execution_count": null,
   "metadata": {
    "collapsed": false
   },
   "outputs": [],
   "source": [
    "fig = plt.figure()\n",
    "ax = fig.add_subplot(111)\n",
    "seaborn.barplot(data=group_data, x=group_data.AgeGroup, y=group_data.Clicks)"
   ]
  },
  {
   "cell_type": "code",
   "execution_count": null,
   "metadata": {
    "collapsed": false
   },
   "outputs": [],
   "source": [
    "fig = plt.figure()\n",
    "ax = fig.add_subplot(111)\n",
    "seaborn.barplot(data=group_data,\n",
    "                x=group_data.AgeGroup,\n",
    "                y=group_data.Clicks,\n",
    "                hue=group_data.Gender)"
   ]
  },
  {
   "cell_type": "code",
   "execution_count": null,
   "metadata": {
    "collapsed": false
   },
   "outputs": [],
   "source": [
    "data_ctr = group_data.groupby('AgeGroup', as_index=False).sum()\n",
    "data_ctr['CTR'] = data_ctr.Clicks / data_ctr.Impressions\n",
    "data_ctr"
   ]
  },
  {
   "cell_type": "code",
   "execution_count": null,
   "metadata": {
    "collapsed": false
   },
   "outputs": [],
   "source": [
    "fig = plt.figure()\n",
    "ax = fig.add_subplot(111)\n",
    "seaborn.barplot(data=data_ctr,\n",
    "                x=data_ctr.AgeGroup,\n",
    "                y=data_ctr.CTR)"
   ]
  },
  {
   "cell_type": "code",
   "execution_count": null,
   "metadata": {
    "collapsed": false
   },
   "outputs": [],
   "source": [
    "lab_data = group_data[group_data.Age > 18].drop(columns=\"Signed_In\")\n",
    "lab_data"
   ]
  },
  {
   "cell_type": "code",
   "execution_count": null,
   "metadata": {
    "collapsed": false
   },
   "outputs": [],
   "source": [
    "lab_data[\"Gender\"] = lab_data.Gender.apply(lambda row: check_gender(row))\n",
    "lab_data['CTR'] = lab_data.Clicks / lab_data.Impressions\n",
    "lab_data"
   ]
  },
  {
   "cell_type": "code",
   "execution_count": null,
   "metadata": {
    "collapsed": false
   },
   "outputs": [],
   "source": [
    "lab_data.groupby('AgeGroup').CTR.mean()"
   ]
  },
  {
   "cell_type": "code",
   "execution_count": null,
   "metadata": {
    "collapsed": false
   },
   "outputs": [],
   "source": [
    "result_data = lab_data.groupby(\"AgeGroup\").mean()\n",
    "result_data = result_data.drop(columns=\"Age\")\n",
    "result_data.rename(columns={\"Impressions\": \"Impressions mean\", \"Clicks\": \"Clicks mean\"}, inplace=True)\n",
    "result_data"
   ]
  },
  {
   "cell_type": "code",
   "execution_count": null,
   "metadata": {
    "collapsed": false
   },
   "outputs": [],
   "source": [
    "result_data.CTR.plot(kind=\"bar\")"
   ]
  },
  {
   "cell_type": "code",
   "execution_count": null,
   "metadata": {
    "collapsed": false
   },
   "outputs": [],
   "source": [
    "result_data[\"CTRQuantile\"] = lab_data.groupby(\"AgeGroup\").CTR.quantile(q=0.95)\n",
    "result_data.CTRQuantile.plot(kind=\"bar\")"
   ]
  },
  {
   "cell_type": "code",
   "execution_count": null,
   "metadata": {
    "collapsed": false
   },
   "outputs": [],
   "source": [
    "result_data[\"MaxImpressions\"] = lab_data.groupby(\"AgeGroup\").Impressions.max()\n",
    "result_data[\"MaxImpressions\"].plot(kind=\"bar\")"
   ]
  },
  {
   "cell_type": "code",
   "execution_count": null,
   "metadata": {
    "collapsed": false
   },
   "outputs": [],
   "source": [
    "result_data[\"MaxClicks\"] = lab_data.groupby(\"AgeGroup\").Clicks.max()\n",
    "result_data[\"MaxClicks\"].plot(kind=\"bar\")"
   ]
  },
  {
   "cell_type": "code",
   "execution_count": null,
   "metadata": {
    "collapsed": false
   },
   "outputs": [],
   "source": [
    "result_data[\"ImpressionsDispersion\"] = lab_data.groupby(\"AgeGroup\").Impressions.std()\n",
    "result_data[\"ImpressionsDispersion\"].plot(kind=\"bar\")"
   ]
  },
  {
   "cell_type": "code",
   "execution_count": null,
   "metadata": {
    "collapsed": false
   },
   "outputs": [],
   "source": [
    "result_data[\"ClicksDispersion\"] = lab_data.groupby(\"AgeGroup\").Clicks.std()\n",
    "result_data[\"ClicksDispersion\"].plot(kind=\"bar\")"
   ]
  },
  {
   "cell_type": "code",
   "execution_count": null,
   "metadata": {
    "collapsed": false
   },
   "outputs": [],
   "source": [
    "def analyze_day(day):\n",
    "    data_day = pd.read_csv(f\"./data/nyt{day}.csv\")\n",
    "    data_day_no_null_age = data_day[(data_day.Age > 0) & (data_day.Signed_In == 1)]\n",
    "    grouped_age_data = data_day_no_null_age\n",
    "    grouped_age_data[\"age_group\"] = grouped_age_data.Age.apply(lambda x: group_by_age(x))\n",
    "\n",
    "    lab_data_day = grouped_age_data[grouped_age_data.Age > 18]\n",
    "    lab_data_day = lab_data_day.drop(columns=\"Signed_In\")\n",
    "    lab_data_day[\"Gender\"] = lab_data_day.Gender.apply(lambda x: check_gender(x))\n",
    "    lab_data_day[\"CTR\"] = lab_data_day.Clicks / lab_data_day.Impressions\n",
    "\n",
    "    result_data_day = lab_data_day.groupby(\"age_group\").mean()\n",
    "    result_data_day = result_data_day.drop(columns=\"Age\")\n",
    "    result_data_day.rename(columns={\"Impressions\": \"Impressions mean\", \"Clicks\": \"Clicks mean\"}, inplace=True)\n",
    "    result_data_day[\"CTR quantile\"] = lab_data_day.groupby(\"age_group\").CTR.quantile(q=0.95)\n",
    "    result_data_day[\"Impressions max\"] = lab_data_day.groupby(\"age_group\").Impressions.max()\n",
    "    result_data_day[\"Clicks max\"] = lab_data_day.groupby(\"age_group\").Clicks.max()\n",
    "    result_data_day[\"Impressions dispersion\"] = lab_data_day.groupby(\"age_group\").Impressions.std()\n",
    "    result_data_day[\"Clicks dispersion\"] = lab_data_day.groupby(\"age_group\").Clicks.std()\n",
    "\n",
    "    return result_data_day"
   ]
  },
  {
   "cell_type": "code",
   "execution_count": null,
   "metadata": {
    "collapsed": false
   },
   "outputs": [],
   "source": [
    "analyze_day(2)"
   ]
  },
  {
   "cell_type": "code",
   "execution_count": null,
   "metadata": {
    "collapsed": false
   },
   "outputs": [],
   "source": [
    "analyze_day(3)"
   ]
  },
  {
   "cell_type": "code",
   "execution_count": null,
   "metadata": {
    "collapsed": false
   },
   "outputs": [],
   "source": [
    "analyze_day(4)"
   ]
  },
  {
   "cell_type": "code",
   "execution_count": null,
   "metadata": {
    "collapsed": false
   },
   "outputs": [],
   "source": [
    "ax = result_data.CTR.plot()\n",
    "analyze_day(2).CTR.plot(ax=ax)"
   ]
  },
  {
   "cell_type": "code",
   "execution_count": null,
   "metadata": {
    "collapsed": false
   },
   "outputs": [],
   "source": []
  }
 ],
 "metadata": {
  "kernelspec": {
   "display_name": "Python 3.8.5 32-bit",
   "language": "python",
   "name": "python3"
  },
  "language_info": {
   "codemirror_mode": {
    "name": "ipython",
    "version": 3
   },
   "file_extension": ".py",
   "mimetype": "text/x-python",
   "name": "python",
   "nbconvert_exporter": "python",
   "pygments_lexer": "ipython3",
   "version": "3.8.5"
  },
  "vscode": {
   "interpreter": {
    "hash": "e563388ff078e5dc6a4a3da70678fe54edabc7c85a24ab6f3aeae41f99b049be"
   }
  }
 },
 "nbformat": 4,
 "nbformat_minor": 0
}
