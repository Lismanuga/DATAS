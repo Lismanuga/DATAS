{
 "cells": [
  {
   "cell_type": "code",
   "execution_count": 1,
   "metadata": {
    "collapsed": true
   },
   "outputs": [],
   "source": [
    "import matplotlib.pyplot as plt\n",
    "import pandas as pd\n",
    "import seaborn"
   ]
  },
  {
   "cell_type": "code",
   "execution_count": 2,
   "metadata": {
    "collapsed": false
   },
   "outputs": [
    {
     "data": {
      "text/html": [
       "<div>\n",
       "<style scoped>\n",
       "    .dataframe tbody tr th:only-of-type {\n",
       "        vertical-align: middle;\n",
       "    }\n",
       "\n",
       "    .dataframe tbody tr th {\n",
       "        vertical-align: top;\n",
       "    }\n",
       "\n",
       "    .dataframe thead th {\n",
       "        text-align: right;\n",
       "    }\n",
       "</style>\n",
       "<table border=\"1\" class=\"dataframe\">\n",
       "  <thead>\n",
       "    <tr style=\"text-align: right;\">\n",
       "      <th></th>\n",
       "      <th>Age</th>\n",
       "      <th>Gender</th>\n",
       "      <th>Impressions</th>\n",
       "      <th>Clicks</th>\n",
       "      <th>Signed_In</th>\n",
       "    </tr>\n",
       "  </thead>\n",
       "  <tbody>\n",
       "    <tr>\n",
       "      <th>0</th>\n",
       "      <td>0</td>\n",
       "      <td>0</td>\n",
       "      <td>3</td>\n",
       "      <td>0</td>\n",
       "      <td>0</td>\n",
       "    </tr>\n",
       "    <tr>\n",
       "      <th>1</th>\n",
       "      <td>46</td>\n",
       "      <td>1</td>\n",
       "      <td>3</td>\n",
       "      <td>0</td>\n",
       "      <td>1</td>\n",
       "    </tr>\n",
       "    <tr>\n",
       "      <th>2</th>\n",
       "      <td>0</td>\n",
       "      <td>0</td>\n",
       "      <td>6</td>\n",
       "      <td>1</td>\n",
       "      <td>0</td>\n",
       "    </tr>\n",
       "    <tr>\n",
       "      <th>3</th>\n",
       "      <td>22</td>\n",
       "      <td>0</td>\n",
       "      <td>4</td>\n",
       "      <td>0</td>\n",
       "      <td>1</td>\n",
       "    </tr>\n",
       "    <tr>\n",
       "      <th>4</th>\n",
       "      <td>0</td>\n",
       "      <td>0</td>\n",
       "      <td>2</td>\n",
       "      <td>0</td>\n",
       "      <td>0</td>\n",
       "    </tr>\n",
       "    <tr>\n",
       "      <th>...</th>\n",
       "      <td>...</td>\n",
       "      <td>...</td>\n",
       "      <td>...</td>\n",
       "      <td>...</td>\n",
       "      <td>...</td>\n",
       "    </tr>\n",
       "    <tr>\n",
       "      <th>452488</th>\n",
       "      <td>44</td>\n",
       "      <td>0</td>\n",
       "      <td>5</td>\n",
       "      <td>0</td>\n",
       "      <td>1</td>\n",
       "    </tr>\n",
       "    <tr>\n",
       "      <th>452489</th>\n",
       "      <td>47</td>\n",
       "      <td>1</td>\n",
       "      <td>3</td>\n",
       "      <td>0</td>\n",
       "      <td>1</td>\n",
       "    </tr>\n",
       "    <tr>\n",
       "      <th>452490</th>\n",
       "      <td>63</td>\n",
       "      <td>0</td>\n",
       "      <td>9</td>\n",
       "      <td>0</td>\n",
       "      <td>1</td>\n",
       "    </tr>\n",
       "    <tr>\n",
       "      <th>452491</th>\n",
       "      <td>30</td>\n",
       "      <td>0</td>\n",
       "      <td>5</td>\n",
       "      <td>0</td>\n",
       "      <td>1</td>\n",
       "    </tr>\n",
       "    <tr>\n",
       "      <th>452492</th>\n",
       "      <td>23</td>\n",
       "      <td>0</td>\n",
       "      <td>7</td>\n",
       "      <td>0</td>\n",
       "      <td>1</td>\n",
       "    </tr>\n",
       "  </tbody>\n",
       "</table>\n",
       "<p>452493 rows × 5 columns</p>\n",
       "</div>"
      ],
      "text/plain": [
       "        Age  Gender  Impressions  Clicks  Signed_In\n",
       "0         0       0            3       0          0\n",
       "1        46       1            3       0          1\n",
       "2         0       0            6       1          0\n",
       "3        22       0            4       0          1\n",
       "4         0       0            2       0          0\n",
       "...     ...     ...          ...     ...        ...\n",
       "452488   44       0            5       0          1\n",
       "452489   47       1            3       0          1\n",
       "452490   63       0            9       0          1\n",
       "452491   30       0            5       0          1\n",
       "452492   23       0            7       0          1\n",
       "\n",
       "[452493 rows x 5 columns]"
      ]
     },
     "execution_count": 2,
     "metadata": {},
     "output_type": "execute_result"
    }
   ],
   "source": [
    "data = pd.read_csv(\"./data/nyt7.csv\")\n",
    "data"
   ]
  },
  {
   "cell_type": "code",
   "execution_count": 3,
   "metadata": {
    "collapsed": false
   },
   "outputs": [
    {
     "data": {
      "text/plain": [
       "array([  0,  46,  22,  18,  35,  41,  72,  26,  57,  65,  51,  63,  31,\n",
       "        19,  48,  58,  42,  37,  36,  15,  45,  75,  14,  56,  53,  61,\n",
       "        50,  60,  28,  73,  16,  33,  30,  47,  34,  39,  17,  43,  52,\n",
       "        54,  23,  76,  74,  40,  38,  59,  55,  20,  27,  24,  64,  44,\n",
       "        29,  81,  32,  25,  62,  69,  67,  68,  21,  66,  86,  49,  79,\n",
       "        71,  84,  78,  88,  70,  83,  12,  13,  92,  93,  77,  87,  80,\n",
       "        82,  89,  10,  85,  11,  90,  91, 101,   8,  96,   9,   7,  95,\n",
       "        94, 105,  99,  97, 100,  98, 107, 103, 104, 106, 102, 112])"
      ]
     },
     "execution_count": 3,
     "metadata": {},
     "output_type": "execute_result"
    }
   ],
   "source": [
    "data.Age.unique()"
   ]
  },
  {
   "cell_type": "code",
   "execution_count": 4,
   "metadata": {
    "collapsed": false
   },
   "outputs": [
    {
     "data": {
      "text/plain": [
       "Age            0\n",
       "Gender         0\n",
       "Impressions    0\n",
       "Clicks         0\n",
       "Signed_In      0\n",
       "dtype: int64"
      ]
     },
     "execution_count": 4,
     "metadata": {},
     "output_type": "execute_result"
    }
   ],
   "source": [
    "data.isnull().sum()"
   ]
  },
  {
   "cell_type": "code",
   "execution_count": 5,
   "metadata": {
    "collapsed": false
   },
   "outputs": [
    {
     "name": "stdout",
     "output_type": "stream",
     "text": [
      "<class 'pandas.core.frame.DataFrame'>\n",
      "RangeIndex: 452493 entries, 0 to 452492\n",
      "Data columns (total 5 columns):\n",
      " #   Column       Non-Null Count   Dtype\n",
      "---  ------       --------------   -----\n",
      " 0   Age          452493 non-null  int64\n",
      " 1   Gender       452493 non-null  int64\n",
      " 2   Impressions  452493 non-null  int64\n",
      " 3   Clicks       452493 non-null  int64\n",
      " 4   Signed_In    452493 non-null  int64\n",
      "dtypes: int64(5)\n",
      "memory usage: 17.3 MB\n"
     ]
    }
   ],
   "source": [
    "data.info()"
   ]
  },
  {
   "cell_type": "code",
   "execution_count": 6,
   "metadata": {
    "collapsed": false
   },
   "outputs": [
    {
     "data": {
      "text/html": [
       "<div>\n",
       "<style scoped>\n",
       "    .dataframe tbody tr th:only-of-type {\n",
       "        vertical-align: middle;\n",
       "    }\n",
       "\n",
       "    .dataframe tbody tr th {\n",
       "        vertical-align: top;\n",
       "    }\n",
       "\n",
       "    .dataframe thead th {\n",
       "        text-align: right;\n",
       "    }\n",
       "</style>\n",
       "<table border=\"1\" class=\"dataframe\">\n",
       "  <thead>\n",
       "    <tr style=\"text-align: right;\">\n",
       "      <th></th>\n",
       "      <th>Gender</th>\n",
       "      <th>Impressions</th>\n",
       "      <th>Clicks</th>\n",
       "      <th>Signed_In</th>\n",
       "    </tr>\n",
       "    <tr>\n",
       "      <th>Age</th>\n",
       "      <th></th>\n",
       "      <th></th>\n",
       "      <th></th>\n",
       "      <th></th>\n",
       "    </tr>\n",
       "  </thead>\n",
       "  <tbody>\n",
       "    <tr>\n",
       "      <th>0</th>\n",
       "      <td>135670</td>\n",
       "      <td>135670</td>\n",
       "      <td>135670</td>\n",
       "      <td>135670</td>\n",
       "    </tr>\n",
       "  </tbody>\n",
       "</table>\n",
       "</div>"
      ],
      "text/plain": [
       "     Gender  Impressions  Clicks  Signed_In\n",
       "Age                                        \n",
       "0    135670       135670  135670     135670"
      ]
     },
     "execution_count": 6,
     "metadata": {},
     "output_type": "execute_result"
    }
   ],
   "source": [
    "data[data.Age == 0].groupby(\"Age\").count()"
   ]
  },
  {
   "cell_type": "code",
   "execution_count": 7,
   "metadata": {
    "collapsed": false
   },
   "outputs": [
    {
     "data": {
      "text/plain": [
       "<AxesSubplot: >"
      ]
     },
     "execution_count": 7,
     "metadata": {},
     "output_type": "execute_result"
    },
    {
     "data": {
      "image/png": "[encoded data removed]",
      "text/plain": [
       "<Figure size 640x480 with 1 Axes>"
      ]
     },
     "metadata": {},
     "output_type": "display_data"
    }
   ],
   "source": [
    "data_not_null_age = data[(data.Age > 0)]\n",
    "data_not_null_age.Age.hist()"
   ]
  },
  {
   "cell_type": "code",
   "execution_count": 8,
   "metadata": {
    "collapsed": false
   },
   "outputs": [
    {
     "data": {
      "text/plain": [
       "array([1])"
      ]
     },
     "execution_count": 8,
     "metadata": {},
     "output_type": "execute_result"
    }
   ],
   "source": [
    "data_not_null_age.Signed_In.unique()"
   ]
  },
  {
   "cell_type": "code",
   "execution_count": 9,
   "metadata": {
    "collapsed": false
   },
   "outputs": [
    {
     "name": "stderr",
     "output_type": "stream",
     "text": [
      "/tmp/ipykernel_7255/3909912433.py:27: SettingWithCopyWarning: \n",
      "A value is trying to be set on a copy of a slice from a DataFrame.\n",
      "Try using .loc[row_indexer,col_indexer] = value instead\n",
      "\n",
      "See the caveats in the documentation: https://pandas.pydata.org/pandas-docs/stable/user_guide/indexing.html#returning-a-view-versus-a-copy\n",
      "  group_data['AgeGroup'] = data_not_null_age.Age.apply(lambda row: group_by_age(row))\n"
     ]
    },
    {
     "data": {
      "text/html": [
       "<div>\n",
       "<style scoped>\n",
       "    .dataframe tbody tr th:only-of-type {\n",
       "        vertical-align: middle;\n",
       "    }\n",
       "\n",
       "    .dataframe tbody tr th {\n",
       "        vertical-align: top;\n",
       "    }\n",
       "\n",
       "    .dataframe thead th {\n",
       "        text-align: right;\n",
       "    }\n",
       "</style>\n",
       "<table border=\"1\" class=\"dataframe\">\n",
       "  <thead>\n",
       "    <tr style=\"text-align: right;\">\n",
       "      <th></th>\n",
       "      <th>Age</th>\n",
       "      <th>Gender</th>\n",
       "      <th>Impressions</th>\n",
       "      <th>Clicks</th>\n",
       "      <th>Signed_In</th>\n",
       "      <th>AgeGroup</th>\n",
       "    </tr>\n",
       "  </thead>\n",
       "  <tbody>\n",
       "    <tr>\n",
       "      <th>353212</th>\n",
       "      <td>17</td>\n",
       "      <td>1</td>\n",
       "      <td>6</td>\n",
       "      <td>0</td>\n",
       "      <td>1</td>\n",
       "      <td>0-18</td>\n",
       "    </tr>\n",
       "    <tr>\n",
       "      <th>331000</th>\n",
       "      <td>11</td>\n",
       "      <td>1</td>\n",
       "      <td>5</td>\n",
       "      <td>0</td>\n",
       "      <td>1</td>\n",
       "      <td>0-18</td>\n",
       "    </tr>\n",
       "    <tr>\n",
       "      <th>388083</th>\n",
       "      <td>16</td>\n",
       "      <td>1</td>\n",
       "      <td>4</td>\n",
       "      <td>0</td>\n",
       "      <td>1</td>\n",
       "      <td>0-18</td>\n",
       "    </tr>\n",
       "    <tr>\n",
       "      <th>424785</th>\n",
       "      <td>17</td>\n",
       "      <td>0</td>\n",
       "      <td>3</td>\n",
       "      <td>0</td>\n",
       "      <td>1</td>\n",
       "      <td>0-18</td>\n",
       "    </tr>\n",
       "    <tr>\n",
       "      <th>331018</th>\n",
       "      <td>17</td>\n",
       "      <td>0</td>\n",
       "      <td>6</td>\n",
       "      <td>0</td>\n",
       "      <td>1</td>\n",
       "      <td>0-18</td>\n",
       "    </tr>\n",
       "    <tr>\n",
       "      <th>...</th>\n",
       "      <td>...</td>\n",
       "      <td>...</td>\n",
       "      <td>...</td>\n",
       "      <td>...</td>\n",
       "      <td>...</td>\n",
       "      <td>...</td>\n",
       "    </tr>\n",
       "    <tr>\n",
       "      <th>409698</th>\n",
       "      <td>66</td>\n",
       "      <td>1</td>\n",
       "      <td>3</td>\n",
       "      <td>0</td>\n",
       "      <td>1</td>\n",
       "      <td>65+</td>\n",
       "    </tr>\n",
       "    <tr>\n",
       "      <th>409700</th>\n",
       "      <td>66</td>\n",
       "      <td>0</td>\n",
       "      <td>3</td>\n",
       "      <td>0</td>\n",
       "      <td>1</td>\n",
       "      <td>65+</td>\n",
       "    </tr>\n",
       "    <tr>\n",
       "      <th>339041</th>\n",
       "      <td>67</td>\n",
       "      <td>0</td>\n",
       "      <td>3</td>\n",
       "      <td>0</td>\n",
       "      <td>1</td>\n",
       "      <td>65+</td>\n",
       "    </tr>\n",
       "    <tr>\n",
       "      <th>201107</th>\n",
       "      <td>66</td>\n",
       "      <td>0</td>\n",
       "      <td>4</td>\n",
       "      <td>0</td>\n",
       "      <td>1</td>\n",
       "      <td>65+</td>\n",
       "    </tr>\n",
       "    <tr>\n",
       "      <th>289493</th>\n",
       "      <td>66</td>\n",
       "      <td>1</td>\n",
       "      <td>4</td>\n",
       "      <td>0</td>\n",
       "      <td>1</td>\n",
       "      <td>65+</td>\n",
       "    </tr>\n",
       "  </tbody>\n",
       "</table>\n",
       "<p>316823 rows × 6 columns</p>\n",
       "</div>"
      ],
      "text/plain": [
       "        Age  Gender  Impressions  Clicks  Signed_In AgeGroup\n",
       "353212   17       1            6       0          1     0-18\n",
       "331000   11       1            5       0          1     0-18\n",
       "388083   16       1            4       0          1     0-18\n",
       "424785   17       0            3       0          1     0-18\n",
       "331018   17       0            6       0          1     0-18\n",
       "...     ...     ...          ...     ...        ...      ...\n",
       "409698   66       1            3       0          1      65+\n",
       "409700   66       0            3       0          1      65+\n",
       "339041   67       0            3       0          1      65+\n",
       "201107   66       0            4       0          1      65+\n",
       "289493   66       1            4       0          1      65+\n",
       "\n",
       "[316823 rows x 6 columns]"
      ]
     },
     "execution_count": 9,
     "metadata": {},
     "output_type": "execute_result"
    }
   ],
   "source": [
    "def group_by_age(age):\n",
    "    match age:\n",
    "        case x if x < 18:\n",
    "            return \"0-18\"\n",
    "        case x if 18 <= x <= 24:\n",
    "            return \"18-24\"\n",
    "        case x if 25 <= x <= 34:\n",
    "            return \"25-34\"\n",
    "        case x if 35 <= x <= 44:\n",
    "            return \"35-44\"\n",
    "        case x if 45 <= x <= 54:\n",
    "            return \"45-54\"\n",
    "        case x if 55 <= x <= 64:\n",
    "            return \"55-64\"\n",
    "        case x if x >= 65:\n",
    "            return \"65+\"\n",
    "\n",
    "\n",
    "def check_gender(gender):\n",
    "    if gender == 0:\n",
    "        return \"Female\"\n",
    "    else:\n",
    "        return \"Male\"\n",
    "\n",
    "\n",
    "group_data = data_not_null_age\n",
    "group_data['AgeGroup'] = data_not_null_age.Age.apply(lambda row: group_by_age(row))\n",
    "group_data = group_data.sort_values(by=['AgeGroup'])\n",
    "group_data"
   ]
  },
  {
   "cell_type": "code",
   "execution_count": 10,
   "metadata": {
    "collapsed": false
   },
   "outputs": [
    {
     "data": {
      "text/plain": [
       "<AxesSubplot: xlabel='AgeGroup', ylabel='Clicks'>"
      ]
     },
     "execution_count": 10,
     "metadata": {},
     "output_type": "execute_result"
    },
    {
     "data": {
      "image/png": "[encoded data removed]",
      "text/plain": [
       "<Figure size 640x480 with 1 Axes>"
      ]
     },
     "metadata": {},
     "output_type": "display_data"
    }
   ],
   "source": [
    "fig = plt.figure()\n",
    "ax = fig.add_subplot(111)\n",
    "seaborn.barplot(data=group_data, x=group_data.AgeGroup, y=group_data.Clicks)"
   ]
  },
  {
   "cell_type": "code",
   "execution_count": 11,
   "metadata": {
    "collapsed": false
   },
   "outputs": [
    {
     "data": {
      "text/plain": [
       "<AxesSubplot: xlabel='AgeGroup', ylabel='Clicks'>"
      ]
     },
     "execution_count": 11,
     "metadata": {},
     "output_type": "execute_result"
    },
    {
     "data": {
      "image/png": "[encoded data removed]",
      "text/plain": [
       "<Figure size 640x480 with 1 Axes>"
      ]
     },
     "metadata": {},
     "output_type": "display_data"
    }
   ],
   "source": [
    "fig = plt.figure()\n",
    "ax = fig.add_subplot(111)\n",
    "seaborn.barplot(data=group_data,\n",
    "                x=group_data.AgeGroup,\n",
    "                y=group_data.Clicks,\n",
    "                hue=group_data.Gender)"
   ]
  },
  {
   "cell_type": "code",
   "execution_count": 12,
   "metadata": {
    "collapsed": false
   },
   "outputs": [
    {
     "data": {
      "text/html": [
       "<div>\n",
       "<style scoped>\n",
       "    .dataframe tbody tr th:only-of-type {\n",
       "        vertical-align: middle;\n",
       "    }\n",
       "\n",
       "    .dataframe tbody tr th {\n",
       "        vertical-align: top;\n",
       "    }\n",
       "\n",
       "    .dataframe thead th {\n",
       "        text-align: right;\n",
       "    }\n",
       "</style>\n",
       "<table border=\"1\" class=\"dataframe\">\n",
       "  <thead>\n",
       "    <tr style=\"text-align: right;\">\n",
       "      <th></th>\n",
       "      <th>AgeGroup</th>\n",
       "      <th>Age</th>\n",
       "      <th>Gender</th>\n",
       "      <th>Impressions</th>\n",
       "      <th>Clicks</th>\n",
       "      <th>Signed_In</th>\n",
       "      <th>CTR</th>\n",
       "    </tr>\n",
       "  </thead>\n",
       "  <tbody>\n",
       "    <tr>\n",
       "      <th>0</th>\n",
       "      <td>0-18</td>\n",
       "      <td>210466</td>\n",
       "      <td>9299</td>\n",
       "      <td>69067</td>\n",
       "      <td>2160</td>\n",
       "      <td>13804</td>\n",
       "      <td>0.031274</td>\n",
       "    </tr>\n",
       "    <tr>\n",
       "      <th>1</th>\n",
       "      <td>18-24</td>\n",
       "      <td>831538</td>\n",
       "      <td>20360</td>\n",
       "      <td>198594</td>\n",
       "      <td>2184</td>\n",
       "      <td>39873</td>\n",
       "      <td>0.010997</td>\n",
       "    </tr>\n",
       "    <tr>\n",
       "      <th>2</th>\n",
       "      <td>25-34</td>\n",
       "      <td>1681115</td>\n",
       "      <td>29218</td>\n",
       "      <td>285134</td>\n",
       "      <td>2838</td>\n",
       "      <td>57018</td>\n",
       "      <td>0.009953</td>\n",
       "    </tr>\n",
       "    <tr>\n",
       "      <th>3</th>\n",
       "      <td>35-44</td>\n",
       "      <td>2737014</td>\n",
       "      <td>35353</td>\n",
       "      <td>345754</td>\n",
       "      <td>3468</td>\n",
       "      <td>69284</td>\n",
       "      <td>0.010030</td>\n",
       "    </tr>\n",
       "    <tr>\n",
       "      <th>4</th>\n",
       "      <td>45-54</td>\n",
       "      <td>3146478</td>\n",
       "      <td>32563</td>\n",
       "      <td>317236</td>\n",
       "      <td>3136</td>\n",
       "      <td>63543</td>\n",
       "      <td>0.009885</td>\n",
       "    </tr>\n",
       "    <tr>\n",
       "      <th>5</th>\n",
       "      <td>55-64</td>\n",
       "      <td>2652673</td>\n",
       "      <td>22676</td>\n",
       "      <td>223313</td>\n",
       "      <td>4415</td>\n",
       "      <td>44573</td>\n",
       "      <td>0.019770</td>\n",
       "    </tr>\n",
       "    <tr>\n",
       "      <th>6</th>\n",
       "      <td>65+</td>\n",
       "      <td>2098227</td>\n",
       "      <td>9948</td>\n",
       "      <td>143676</td>\n",
       "      <td>4318</td>\n",
       "      <td>28728</td>\n",
       "      <td>0.030054</td>\n",
       "    </tr>\n",
       "  </tbody>\n",
       "</table>\n",
       "</div>"
      ],
      "text/plain": [
       "  AgeGroup      Age  Gender  Impressions  Clicks  Signed_In       CTR\n",
       "0     0-18   210466    9299        69067    2160      13804  0.031274\n",
       "1    18-24   831538   20360       198594    2184      39873  0.010997\n",
       "2    25-34  1681115   29218       285134    2838      57018  0.009953\n",
       "3    35-44  2737014   35353       345754    3468      69284  0.010030\n",
       "4    45-54  3146478   32563       317236    3136      63543  0.009885\n",
       "5    55-64  2652673   22676       223313    4415      44573  0.019770\n",
       "6      65+  2098227    9948       143676    4318      28728  0.030054"
      ]
     },
     "execution_count": 12,
     "metadata": {},
     "output_type": "execute_result"
    }
   ],
   "source": [
    "data_ctr = group_data.groupby('AgeGroup', as_index=False).sum()\n",
    "data_ctr['CTR'] = data_ctr.Clicks / data_ctr.Impressions\n",
    "data_ctr"
   ]
  },
  {
   "cell_type": "code",
   "execution_count": 13,
   "metadata": {
    "collapsed": false
   },
   "outputs": [
    {
     "data": {
      "text/plain": [
       "<AxesSubplot: xlabel='AgeGroup', ylabel='CTR'>"
      ]
     },
     "execution_count": 13,
     "metadata": {},
     "output_type": "execute_result"
    },
    {
     "data": {
      "image/png": "[encoded data removed]",
      "text/plain": [
       "<Figure size 640x480 with 1 Axes>"
      ]
     },
     "metadata": {},
     "output_type": "display_data"
    }
   ],
   "source": [
    "fig = plt.figure()\n",
    "ax = fig.add_subplot(111)\n",
    "seaborn.barplot(data=data_ctr,\n",
    "                x=data_ctr.AgeGroup,\n",
    "                y=data_ctr.CTR)"
   ]
  },
  {
   "cell_type": "code",
   "execution_count": 14,
   "metadata": {
    "collapsed": false
   },
   "outputs": [
    {
     "data": {
      "text/html": [
       "<div>\n",
       "<style scoped>\n",
       "    .dataframe tbody tr th:only-of-type {\n",
       "        vertical-align: middle;\n",
       "    }\n",
       "\n",
       "    .dataframe tbody tr th {\n",
       "        vertical-align: top;\n",
       "    }\n",
       "\n",
       "    .dataframe thead th {\n",
       "        text-align: right;\n",
       "    }\n",
       "</style>\n",
       "<table border=\"1\" class=\"dataframe\">\n",
       "  <thead>\n",
       "    <tr style=\"text-align: right;\">\n",
       "      <th></th>\n",
       "      <th>Age</th>\n",
       "      <th>Gender</th>\n",
       "      <th>Impressions</th>\n",
       "      <th>Clicks</th>\n",
       "      <th>AgeGroup</th>\n",
       "    </tr>\n",
       "  </thead>\n",
       "  <tbody>\n",
       "    <tr>\n",
       "      <th>139740</th>\n",
       "      <td>22</td>\n",
       "      <td>0</td>\n",
       "      <td>3</td>\n",
       "      <td>0</td>\n",
       "      <td>18-24</td>\n",
       "    </tr>\n",
       "    <tr>\n",
       "      <th>93054</th>\n",
       "      <td>19</td>\n",
       "      <td>1</td>\n",
       "      <td>7</td>\n",
       "      <td>0</td>\n",
       "      <td>18-24</td>\n",
       "    </tr>\n",
       "    <tr>\n",
       "      <th>139846</th>\n",
       "      <td>24</td>\n",
       "      <td>1</td>\n",
       "      <td>4</td>\n",
       "      <td>0</td>\n",
       "      <td>18-24</td>\n",
       "    </tr>\n",
       "    <tr>\n",
       "      <th>373952</th>\n",
       "      <td>20</td>\n",
       "      <td>1</td>\n",
       "      <td>7</td>\n",
       "      <td>0</td>\n",
       "      <td>18-24</td>\n",
       "    </tr>\n",
       "    <tr>\n",
       "      <th>139850</th>\n",
       "      <td>20</td>\n",
       "      <td>1</td>\n",
       "      <td>5</td>\n",
       "      <td>0</td>\n",
       "      <td>18-24</td>\n",
       "    </tr>\n",
       "    <tr>\n",
       "      <th>...</th>\n",
       "      <td>...</td>\n",
       "      <td>...</td>\n",
       "      <td>...</td>\n",
       "      <td>...</td>\n",
       "      <td>...</td>\n",
       "    </tr>\n",
       "    <tr>\n",
       "      <th>409698</th>\n",
       "      <td>66</td>\n",
       "      <td>1</td>\n",
       "      <td>3</td>\n",
       "      <td>0</td>\n",
       "      <td>65+</td>\n",
       "    </tr>\n",
       "    <tr>\n",
       "      <th>409700</th>\n",
       "      <td>66</td>\n",
       "      <td>0</td>\n",
       "      <td>3</td>\n",
       "      <td>0</td>\n",
       "      <td>65+</td>\n",
       "    </tr>\n",
       "    <tr>\n",
       "      <th>339041</th>\n",
       "      <td>67</td>\n",
       "      <td>0</td>\n",
       "      <td>3</td>\n",
       "      <td>0</td>\n",
       "      <td>65+</td>\n",
       "    </tr>\n",
       "    <tr>\n",
       "      <th>201107</th>\n",
       "      <td>66</td>\n",
       "      <td>0</td>\n",
       "      <td>4</td>\n",
       "      <td>0</td>\n",
       "      <td>65+</td>\n",
       "    </tr>\n",
       "    <tr>\n",
       "      <th>289493</th>\n",
       "      <td>66</td>\n",
       "      <td>1</td>\n",
       "      <td>4</td>\n",
       "      <td>0</td>\n",
       "      <td>65+</td>\n",
       "    </tr>\n",
       "  </tbody>\n",
       "</table>\n",
       "<p>297865 rows × 5 columns</p>\n",
       "</div>"
      ],
      "text/plain": [
       "        Age  Gender  Impressions  Clicks AgeGroup\n",
       "139740   22       0            3       0    18-24\n",
       "93054    19       1            7       0    18-24\n",
       "139846   24       1            4       0    18-24\n",
       "373952   20       1            7       0    18-24\n",
       "139850   20       1            5       0    18-24\n",
       "...     ...     ...          ...     ...      ...\n",
       "409698   66       1            3       0      65+\n",
       "409700   66       0            3       0      65+\n",
       "339041   67       0            3       0      65+\n",
       "201107   66       0            4       0      65+\n",
       "289493   66       1            4       0      65+\n",
       "\n",
       "[297865 rows x 5 columns]"
      ]
     },
     "execution_count": 14,
     "metadata": {},
     "output_type": "execute_result"
    }
   ],
   "source": [
    "lab_data = group_data[group_data.Age > 18].drop(columns=\"Signed_In\")\n",
    "lab_data"
   ]
  },
  {
   "cell_type": "code",
   "execution_count": 15,
   "metadata": {
    "collapsed": false
   },
   "outputs": [
    {
     "data": {
      "text/html": [
       "<div>\n",
       "<style scoped>\n",
       "    .dataframe tbody tr th:only-of-type {\n",
       "        vertical-align: middle;\n",
       "    }\n",
       "\n",
       "    .dataframe tbody tr th {\n",
       "        vertical-align: top;\n",
       "    }\n",
       "\n",
       "    .dataframe thead th {\n",
       "        text-align: right;\n",
       "    }\n",
       "</style>\n",
       "<table border=\"1\" class=\"dataframe\">\n",
       "  <thead>\n",
       "    <tr style=\"text-align: right;\">\n",
       "      <th></th>\n",
       "      <th>Age</th>\n",
       "      <th>Gender</th>\n",
       "      <th>Impressions</th>\n",
       "      <th>Clicks</th>\n",
       "      <th>AgeGroup</th>\n",
       "      <th>CTR</th>\n",
       "    </tr>\n",
       "  </thead>\n",
       "  <tbody>\n",
       "    <tr>\n",
       "      <th>139740</th>\n",
       "      <td>22</td>\n",
       "      <td>Female</td>\n",
       "      <td>3</td>\n",
       "      <td>0</td>\n",
       "      <td>18-24</td>\n",
       "      <td>0.0</td>\n",
       "    </tr>\n",
       "    <tr>\n",
       "      <th>93054</th>\n",
       "      <td>19</td>\n",
       "      <td>Male</td>\n",
       "      <td>7</td>\n",
       "      <td>0</td>\n",
       "      <td>18-24</td>\n",
       "      <td>0.0</td>\n",
       "    </tr>\n",
       "    <tr>\n",
       "      <th>139846</th>\n",
       "      <td>24</td>\n",
       "      <td>Male</td>\n",
       "      <td>4</td>\n",
       "      <td>0</td>\n",
       "      <td>18-24</td>\n",
       "      <td>0.0</td>\n",
       "    </tr>\n",
       "    <tr>\n",
       "      <th>373952</th>\n",
       "      <td>20</td>\n",
       "      <td>Male</td>\n",
       "      <td>7</td>\n",
       "      <td>0</td>\n",
       "      <td>18-24</td>\n",
       "      <td>0.0</td>\n",
       "    </tr>\n",
       "    <tr>\n",
       "      <th>139850</th>\n",
       "      <td>20</td>\n",
       "      <td>Male</td>\n",
       "      <td>5</td>\n",
       "      <td>0</td>\n",
       "      <td>18-24</td>\n",
       "      <td>0.0</td>\n",
       "    </tr>\n",
       "    <tr>\n",
       "      <th>...</th>\n",
       "      <td>...</td>\n",
       "      <td>...</td>\n",
       "      <td>...</td>\n",
       "      <td>...</td>\n",
       "      <td>...</td>\n",
       "      <td>...</td>\n",
       "    </tr>\n",
       "    <tr>\n",
       "      <th>409698</th>\n",
       "      <td>66</td>\n",
       "      <td>Male</td>\n",
       "      <td>3</td>\n",
       "      <td>0</td>\n",
       "      <td>65+</td>\n",
       "      <td>0.0</td>\n",
       "    </tr>\n",
       "    <tr>\n",
       "      <th>409700</th>\n",
       "      <td>66</td>\n",
       "      <td>Female</td>\n",
       "      <td>3</td>\n",
       "      <td>0</td>\n",
       "      <td>65+</td>\n",
       "      <td>0.0</td>\n",
       "    </tr>\n",
       "    <tr>\n",
       "      <th>339041</th>\n",
       "      <td>67</td>\n",
       "      <td>Female</td>\n",
       "      <td>3</td>\n",
       "      <td>0</td>\n",
       "      <td>65+</td>\n",
       "      <td>0.0</td>\n",
       "    </tr>\n",
       "    <tr>\n",
       "      <th>201107</th>\n",
       "      <td>66</td>\n",
       "      <td>Female</td>\n",
       "      <td>4</td>\n",
       "      <td>0</td>\n",
       "      <td>65+</td>\n",
       "      <td>0.0</td>\n",
       "    </tr>\n",
       "    <tr>\n",
       "      <th>289493</th>\n",
       "      <td>66</td>\n",
       "      <td>Male</td>\n",
       "      <td>4</td>\n",
       "      <td>0</td>\n",
       "      <td>65+</td>\n",
       "      <td>0.0</td>\n",
       "    </tr>\n",
       "  </tbody>\n",
       "</table>\n",
       "<p>297865 rows × 6 columns</p>\n",
       "</div>"
      ],
      "text/plain": [
       "        Age  Gender  Impressions  Clicks AgeGroup  CTR\n",
       "139740   22  Female            3       0    18-24  0.0\n",
       "93054    19    Male            7       0    18-24  0.0\n",
       "139846   24    Male            4       0    18-24  0.0\n",
       "373952   20    Male            7       0    18-24  0.0\n",
       "139850   20    Male            5       0    18-24  0.0\n",
       "...     ...     ...          ...     ...      ...  ...\n",
       "409698   66    Male            3       0      65+  0.0\n",
       "409700   66  Female            3       0      65+  0.0\n",
       "339041   67  Female            3       0      65+  0.0\n",
       "201107   66  Female            4       0      65+  0.0\n",
       "289493   66    Male            4       0      65+  0.0\n",
       "\n",
       "[297865 rows x 6 columns]"
      ]
     },
     "execution_count": 15,
     "metadata": {},
     "output_type": "execute_result"
    }
   ],
   "source": [
    "lab_data[\"Gender\"] = lab_data.Gender.apply(lambda row: check_gender(row))\n",
    "lab_data['CTR'] = lab_data.Clicks / lab_data.Impressions\n",
    "lab_data"
   ]
  },
  {
   "cell_type": "code",
   "execution_count": 16,
   "metadata": {
    "collapsed": false
   },
   "outputs": [
    {
     "data": {
      "text/plain": [
       "AgeGroup\n",
       "18-24    0.009752\n",
       "25-34    0.010077\n",
       "35-44    0.010255\n",
       "45-54    0.009860\n",
       "55-64    0.019581\n",
       "65+      0.030177\n",
       "Name: CTR, dtype: float64"
      ]
     },
     "execution_count": 16,
     "metadata": {},
     "output_type": "execute_result"
    }
   ],
   "source": [
    "lab_data.groupby('AgeGroup').CTR.mean()"
   ]
  },
  {
   "cell_type": "code",
   "execution_count": 17,
   "metadata": {
    "collapsed": false
   },
   "outputs": [
    {
     "name": "stderr",
     "output_type": "stream",
     "text": [
      "/tmp/ipykernel_7255/2961734549.py:1: FutureWarning: The default value of numeric_only in DataFrameGroupBy.mean is deprecated. In a future version, numeric_only will default to False. Either specify numeric_only or select only columns which should be valid for the function.\n",
      "  result_data = lab_data.groupby(\"AgeGroup\").mean()\n"
     ]
    },
    {
     "data": {
      "text/html": [
       "<div>\n",
       "<style scoped>\n",
       "    .dataframe tbody tr th:only-of-type {\n",
       "        vertical-align: middle;\n",
       "    }\n",
       "\n",
       "    .dataframe tbody tr th {\n",
       "        vertical-align: top;\n",
       "    }\n",
       "\n",
       "    .dataframe thead th {\n",
       "        text-align: right;\n",
       "    }\n",
       "</style>\n",
       "<table border=\"1\" class=\"dataframe\">\n",
       "  <thead>\n",
       "    <tr style=\"text-align: right;\">\n",
       "      <th></th>\n",
       "      <th>Impressions mean</th>\n",
       "      <th>Clicks mean</th>\n",
       "      <th>CTR</th>\n",
       "    </tr>\n",
       "    <tr>\n",
       "      <th>AgeGroup</th>\n",
       "      <th></th>\n",
       "      <th></th>\n",
       "      <th></th>\n",
       "    </tr>\n",
       "  </thead>\n",
       "  <tbody>\n",
       "    <tr>\n",
       "      <th>18-24</th>\n",
       "      <td>4.984821</td>\n",
       "      <td>0.048907</td>\n",
       "      <td>0.009752</td>\n",
       "    </tr>\n",
       "    <tr>\n",
       "      <th>25-34</th>\n",
       "      <td>5.000772</td>\n",
       "      <td>0.049774</td>\n",
       "      <td>0.010077</td>\n",
       "    </tr>\n",
       "    <tr>\n",
       "      <th>35-44</th>\n",
       "      <td>4.990387</td>\n",
       "      <td>0.050055</td>\n",
       "      <td>0.010255</td>\n",
       "    </tr>\n",
       "    <tr>\n",
       "      <th>45-54</th>\n",
       "      <td>4.992462</td>\n",
       "      <td>0.049352</td>\n",
       "      <td>0.009860</td>\n",
       "    </tr>\n",
       "    <tr>\n",
       "      <th>55-64</th>\n",
       "      <td>5.010051</td>\n",
       "      <td>0.099051</td>\n",
       "      <td>0.019581</td>\n",
       "    </tr>\n",
       "    <tr>\n",
       "      <th>65+</th>\n",
       "      <td>5.001253</td>\n",
       "      <td>0.150306</td>\n",
       "      <td>0.030177</td>\n",
       "    </tr>\n",
       "  </tbody>\n",
       "</table>\n",
       "</div>"
      ],
      "text/plain": [
       "          Impressions mean  Clicks mean       CTR\n",
       "AgeGroup                                         \n",
       "18-24             4.984821     0.048907  0.009752\n",
       "25-34             5.000772     0.049774  0.010077\n",
       "35-44             4.990387     0.050055  0.010255\n",
       "45-54             4.992462     0.049352  0.009860\n",
       "55-64             5.010051     0.099051  0.019581\n",
       "65+               5.001253     0.150306  0.030177"
      ]
     },
     "execution_count": 17,
     "metadata": {},
     "output_type": "execute_result"
    }
   ],
   "source": [
    "result_data = lab_data.groupby(\"AgeGroup\").mean()\n",
    "result_data = result_data.drop(columns=\"Age\")\n",
    "result_data.rename(columns={\"Impressions\": \"Impressions mean\", \"Clicks\": \"Clicks mean\"}, inplace=True)\n",
    "result_data"
   ]
  },
  {
   "cell_type": "code",
   "execution_count": 18,
   "metadata": {
    "collapsed": false
   },
   "outputs": [
    {
     "data": {
      "text/plain": [
       "<AxesSubplot: xlabel='AgeGroup'>"
      ]
     },
     "execution_count": 18,
     "metadata": {},
     "output_type": "execute_result"
    },
    {
     "data": {
      "image/png": "[encoded data removed]",
      "text/plain": [
       "<Figure size 640x480 with 1 Axes>"
      ]
     },
     "metadata": {},
     "output_type": "display_data"
    }
   ],
   "source": [
    "result_data.CTR.plot(kind=\"bar\")"
   ]
  },
  {
   "cell_type": "code",
   "execution_count": 19,
   "metadata": {
    "collapsed": false
   },
   "outputs": [
    {
     "data": {
      "text/plain": [
       "<AxesSubplot: xlabel='AgeGroup'>"
      ]
     },
     "execution_count": 19,
     "metadata": {},
     "output_type": "execute_result"
    },
    {
     "data": {
      "image/png": "[encoded data removed]",
      "text/plain": [
       "<Figure size 640x480 with 1 Axes>"
      ]
     },
     "metadata": {},
     "output_type": "display_data"
    }
   ],
   "source": [
    "result_data[\"CTRQuantile\"] = lab_data.groupby(\"AgeGroup\").CTR.quantile(q=0.95)\n",
    "result_data.CTRQuantile.plot(kind=\"bar\")"
   ]
  },
  {
   "cell_type": "code",
   "execution_count": 20,
   "metadata": {
    "collapsed": false
   },
   "outputs": [
    {
     "data": {
      "text/plain": [
       "<AxesSubplot: xlabel='AgeGroup'>"
      ]
     },
     "execution_count": 20,
     "metadata": {},
     "output_type": "execute_result"
    },
    {
     "data": {
      "image/png": "[encoded data removed]",
      "text/plain": [
       "<Figure size 640x480 with 1 Axes>"
      ]
     },
     "metadata": {},
     "output_type": "display_data"
    }
   ],
   "source": [
    "result_data[\"MaxImpressions\"] = lab_data.groupby(\"AgeGroup\").Impressions.max()\n",
    "result_data[\"MaxImpressions\"].plot(kind=\"bar\")"
   ]
  },
  {
   "cell_type": "code",
   "execution_count": 21,
   "metadata": {
    "collapsed": false
   },
   "outputs": [
    {
     "data": {
      "text/plain": [
       "<AxesSubplot: xlabel='AgeGroup'>"
      ]
     },
     "execution_count": 21,
     "metadata": {},
     "output_type": "execute_result"
    },
    {
     "data": {
      "image/png": "[encoded data removed]",
      "text/plain": [
       "<Figure size 640x480 with 1 Axes>"
      ]
     },
     "metadata": {},
     "output_type": "display_data"
    }
   ],
   "source": [
    "result_data[\"MaxClicks\"] = lab_data.groupby(\"AgeGroup\").Clicks.max()\n",
    "result_data[\"MaxClicks\"].plot(kind=\"bar\")"
   ]
  },
  {
   "cell_type": "code",
   "execution_count": 22,
   "metadata": {
    "collapsed": false
   },
   "outputs": [
    {
     "data": {
      "text/plain": [
       "<AxesSubplot: xlabel='AgeGroup'>"
      ]
     },
     "execution_count": 22,
     "metadata": {},
     "output_type": "execute_result"
    },
    {
     "data": {
      "image/png": "[encoded data removed]",
      "text/plain": [
       "<Figure size 640x480 with 1 Axes>"
      ]
     },
     "metadata": {},
     "output_type": "display_data"
    }
   ],
   "source": [
    "result_data[\"ImpressionsDispersion\"] = lab_data.groupby(\"AgeGroup\").Impressions.std()\n",
    "result_data[\"ImpressionsDispersion\"].plot(kind=\"bar\")"
   ]
  },
  {
   "cell_type": "code",
   "execution_count": 23,
   "metadata": {
    "collapsed": false
   },
   "outputs": [
    {
     "data": {
      "text/plain": [
       "<AxesSubplot: xlabel='AgeGroup'>"
      ]
     },
     "execution_count": 23,
     "metadata": {},
     "output_type": "execute_result"
    },
    {
     "data": {
      "image/png": "[encoded data removed]",
      "text/plain": [
       "<Figure size 640x480 with 1 Axes>"
      ]
     },
     "metadata": {},
     "output_type": "display_data"
    }
   ],
   "source": [
    "result_data[\"ClicksDispersion\"] = lab_data.groupby(\"AgeGroup\").Clicks.std()\n",
    "result_data[\"ClicksDispersion\"].plot(kind=\"bar\")"
   ]
  },
  {
   "cell_type": "code",
   "execution_count": 24,
   "metadata": {
    "collapsed": false
   },
   "outputs": [],
   "source": [
    "def analyze_day(day):\n",
    "    data_day = pd.read_csv(f\"./data/nyt{day}.csv\")\n",
    "    data_day_no_null_age = data_day[(data_day.Age > 0) & (data_day.Signed_In == 1)]\n",
    "    grouped_age_data = data_day_no_null_age\n",
    "    grouped_age_data[\"age_group\"] = grouped_age_data.Age.apply(lambda x: group_by_age(x))\n",
    "\n",
    "    lab_data_day = grouped_age_data[grouped_age_data.Age > 18]\n",
    "    lab_data_day = lab_data_day.drop(columns=\"Signed_In\")\n",
    "    lab_data_day[\"Gender\"] = lab_data_day.Gender.apply(lambda x: check_gender(x))\n",
    "    lab_data_day[\"CTR\"] = lab_data_day.Clicks / lab_data_day.Impressions\n",
    "\n",
    "    result_data_day = lab_data_day.groupby(\"age_group\").mean()\n",
    "    result_data_day = result_data_day.drop(columns=\"Age\")\n",
    "    result_data_day.rename(columns={\"Impressions\": \"Impressions mean\", \"Clicks\": \"Clicks mean\"}, inplace=True)\n",
    "    result_data_day[\"CTR quantile\"] = lab_data_day.groupby(\"age_group\").CTR.quantile(q=0.95)\n",
    "    result_data_day[\"Impressions max\"] = lab_data_day.groupby(\"age_group\").Impressions.max()\n",
    "    result_data_day[\"Clicks max\"] = lab_data_day.groupby(\"age_group\").Clicks.max()\n",
    "    result_data_day[\"Impressions dispersion\"] = lab_data_day.groupby(\"age_group\").Impressions.std()\n",
    "    result_data_day[\"Clicks dispersion\"] = lab_data_day.groupby(\"age_group\").Clicks.std()\n",
    "\n",
    "    return result_data_day"
   ]
  },
  {
   "cell_type": "code",
   "execution_count": 25,
   "metadata": {
    "collapsed": false
   },
   "outputs": [
    {
     "name": "stderr",
     "output_type": "stream",
     "text": [
      "/tmp/ipykernel_7255/971893923.py:5: SettingWithCopyWarning: \n",
      "A value is trying to be set on a copy of a slice from a DataFrame.\n",
      "Try using .loc[row_indexer,col_indexer] = value instead\n",
      "\n",
      "See the caveats in the documentation: https://pandas.pydata.org/pandas-docs/stable/user_guide/indexing.html#returning-a-view-versus-a-copy\n",
      "  grouped_age_data[\"age_group\"] = grouped_age_data.Age.apply(lambda x: group_by_age(x))\n",
      "/tmp/ipykernel_7255/971893923.py:12: FutureWarning: The default value of numeric_only in DataFrameGroupBy.mean is deprecated. In a future version, numeric_only will default to False. Either specify numeric_only or select only columns which should be valid for the function.\n",
      "  result_data_day = lab_data_day.groupby(\"age_group\").mean()\n"
     ]
    },
    {
     "data": {
      "text/html": [
       "<div>\n",
       "<style scoped>\n",
       "    .dataframe tbody tr th:only-of-type {\n",
       "        vertical-align: middle;\n",
       "    }\n",
       "\n",
       "    .dataframe tbody tr th {\n",
       "        vertical-align: top;\n",
       "    }\n",
       "\n",
       "    .dataframe thead th {\n",
       "        text-align: right;\n",
       "    }\n",
       "</style>\n",
       "<table border=\"1\" class=\"dataframe\">\n",
       "  <thead>\n",
       "    <tr style=\"text-align: right;\">\n",
       "      <th></th>\n",
       "      <th>Impressions mean</th>\n",
       "      <th>Clicks mean</th>\n",
       "      <th>CTR</th>\n",
       "      <th>CTR quantile</th>\n",
       "      <th>Impressions max</th>\n",
       "      <th>Clicks max</th>\n",
       "      <th>Impressions dispersion</th>\n",
       "      <th>Clicks dispersion</th>\n",
       "    </tr>\n",
       "    <tr>\n",
       "      <th>age_group</th>\n",
       "      <th></th>\n",
       "      <th></th>\n",
       "      <th></th>\n",
       "      <th></th>\n",
       "      <th></th>\n",
       "      <th></th>\n",
       "      <th></th>\n",
       "      <th></th>\n",
       "    </tr>\n",
       "  </thead>\n",
       "  <tbody>\n",
       "    <tr>\n",
       "      <th>18-24</th>\n",
       "      <td>4.986214</td>\n",
       "      <td>0.051783</td>\n",
       "      <td>0.010309</td>\n",
       "      <td>0.090909</td>\n",
       "      <td>16</td>\n",
       "      <td>3</td>\n",
       "      <td>2.248052</td>\n",
       "      <td>0.227396</td>\n",
       "    </tr>\n",
       "    <tr>\n",
       "      <th>25-34</th>\n",
       "      <td>5.007083</td>\n",
       "      <td>0.050230</td>\n",
       "      <td>0.010153</td>\n",
       "      <td>0.000000</td>\n",
       "      <td>18</td>\n",
       "      <td>3</td>\n",
       "      <td>2.235247</td>\n",
       "      <td>0.223983</td>\n",
       "    </tr>\n",
       "    <tr>\n",
       "      <th>35-44</th>\n",
       "      <td>4.987068</td>\n",
       "      <td>0.051019</td>\n",
       "      <td>0.010196</td>\n",
       "      <td>0.072802</td>\n",
       "      <td>16</td>\n",
       "      <td>3</td>\n",
       "      <td>2.226515</td>\n",
       "      <td>0.225955</td>\n",
       "    </tr>\n",
       "    <tr>\n",
       "      <th>45-54</th>\n",
       "      <td>4.994392</td>\n",
       "      <td>0.051227</td>\n",
       "      <td>0.010316</td>\n",
       "      <td>0.076923</td>\n",
       "      <td>17</td>\n",
       "      <td>3</td>\n",
       "      <td>2.228464</td>\n",
       "      <td>0.227166</td>\n",
       "    </tr>\n",
       "    <tr>\n",
       "      <th>55-64</th>\n",
       "      <td>5.020435</td>\n",
       "      <td>0.101605</td>\n",
       "      <td>0.020152</td>\n",
       "      <td>0.166667</td>\n",
       "      <td>16</td>\n",
       "      <td>3</td>\n",
       "      <td>2.240195</td>\n",
       "      <td>0.318949</td>\n",
       "    </tr>\n",
       "    <tr>\n",
       "      <th>65+</th>\n",
       "      <td>4.996207</td>\n",
       "      <td>0.146399</td>\n",
       "      <td>0.029019</td>\n",
       "      <td>0.200000</td>\n",
       "      <td>17</td>\n",
       "      <td>3</td>\n",
       "      <td>2.225281</td>\n",
       "      <td>0.383437</td>\n",
       "    </tr>\n",
       "  </tbody>\n",
       "</table>\n",
       "</div>"
      ],
      "text/plain": [
       "           Impressions mean  Clicks mean       CTR  CTR quantile  \\\n",
       "age_group                                                          \n",
       "18-24              4.986214     0.051783  0.010309      0.090909   \n",
       "25-34              5.007083     0.050230  0.010153      0.000000   \n",
       "35-44              4.987068     0.051019  0.010196      0.072802   \n",
       "45-54              4.994392     0.051227  0.010316      0.076923   \n",
       "55-64              5.020435     0.101605  0.020152      0.166667   \n",
       "65+                4.996207     0.146399  0.029019      0.200000   \n",
       "\n",
       "           Impressions max  Clicks max  Impressions dispersion  \\\n",
       "age_group                                                        \n",
       "18-24                   16           3                2.248052   \n",
       "25-34                   18           3                2.235247   \n",
       "35-44                   16           3                2.226515   \n",
       "45-54                   17           3                2.228464   \n",
       "55-64                   16           3                2.240195   \n",
       "65+                     17           3                2.225281   \n",
       "\n",
       "           Clicks dispersion  \n",
       "age_group                     \n",
       "18-24               0.227396  \n",
       "25-34               0.223983  \n",
       "35-44               0.225955  \n",
       "45-54               0.227166  \n",
       "55-64               0.318949  \n",
       "65+                 0.383437  "
      ]
     },
     "execution_count": 25,
     "metadata": {},
     "output_type": "execute_result"
    }
   ],
   "source": [
    "analyze_day(2)"
   ]
  },
  {
   "cell_type": "code",
   "execution_count": 26,
   "metadata": {
    "collapsed": false
   },
   "outputs": [
    {
     "name": "stderr",
     "output_type": "stream",
     "text": [
      "/tmp/ipykernel_7255/971893923.py:5: SettingWithCopyWarning: \n",
      "A value is trying to be set on a copy of a slice from a DataFrame.\n",
      "Try using .loc[row_indexer,col_indexer] = value instead\n",
      "\n",
      "See the caveats in the documentation: https://pandas.pydata.org/pandas-docs/stable/user_guide/indexing.html#returning-a-view-versus-a-copy\n",
      "  grouped_age_data[\"age_group\"] = grouped_age_data.Age.apply(lambda x: group_by_age(x))\n",
      "/tmp/ipykernel_7255/971893923.py:12: FutureWarning: The default value of numeric_only in DataFrameGroupBy.mean is deprecated. In a future version, numeric_only will default to False. Either specify numeric_only or select only columns which should be valid for the function.\n",
      "  result_data_day = lab_data_day.groupby(\"age_group\").mean()\n"
     ]
    },
    {
     "data": {
      "text/html": [
       "<div>\n",
       "<style scoped>\n",
       "    .dataframe tbody tr th:only-of-type {\n",
       "        vertical-align: middle;\n",
       "    }\n",
       "\n",
       "    .dataframe tbody tr th {\n",
       "        vertical-align: top;\n",
       "    }\n",
       "\n",
       "    .dataframe thead th {\n",
       "        text-align: right;\n",
       "    }\n",
       "</style>\n",
       "<table border=\"1\" class=\"dataframe\">\n",
       "  <thead>\n",
       "    <tr style=\"text-align: right;\">\n",
       "      <th></th>\n",
       "      <th>Impressions mean</th>\n",
       "      <th>Clicks mean</th>\n",
       "      <th>CTR</th>\n",
       "      <th>CTR quantile</th>\n",
       "      <th>Impressions max</th>\n",
       "      <th>Clicks max</th>\n",
       "      <th>Impressions dispersion</th>\n",
       "      <th>Clicks dispersion</th>\n",
       "    </tr>\n",
       "    <tr>\n",
       "      <th>age_group</th>\n",
       "      <th></th>\n",
       "      <th></th>\n",
       "      <th></th>\n",
       "      <th></th>\n",
       "      <th></th>\n",
       "      <th></th>\n",
       "      <th></th>\n",
       "      <th></th>\n",
       "    </tr>\n",
       "  </thead>\n",
       "  <tbody>\n",
       "    <tr>\n",
       "      <th>18-24</th>\n",
       "      <td>4.996505</td>\n",
       "      <td>0.050703</td>\n",
       "      <td>0.010121</td>\n",
       "      <td>0.000000</td>\n",
       "      <td>18</td>\n",
       "      <td>2</td>\n",
       "      <td>2.227506</td>\n",
       "      <td>0.226175</td>\n",
       "    </tr>\n",
       "    <tr>\n",
       "      <th>25-34</th>\n",
       "      <td>4.996425</td>\n",
       "      <td>0.049663</td>\n",
       "      <td>0.009916</td>\n",
       "      <td>0.000000</td>\n",
       "      <td>17</td>\n",
       "      <td>3</td>\n",
       "      <td>2.229427</td>\n",
       "      <td>0.224374</td>\n",
       "    </tr>\n",
       "    <tr>\n",
       "      <th>35-44</th>\n",
       "      <td>5.008378</td>\n",
       "      <td>0.050715</td>\n",
       "      <td>0.010311</td>\n",
       "      <td>0.000000</td>\n",
       "      <td>19</td>\n",
       "      <td>3</td>\n",
       "      <td>2.238517</td>\n",
       "      <td>0.225372</td>\n",
       "    </tr>\n",
       "    <tr>\n",
       "      <th>45-54</th>\n",
       "      <td>4.984925</td>\n",
       "      <td>0.048965</td>\n",
       "      <td>0.009949</td>\n",
       "      <td>0.000000</td>\n",
       "      <td>16</td>\n",
       "      <td>3</td>\n",
       "      <td>2.225881</td>\n",
       "      <td>0.221717</td>\n",
       "    </tr>\n",
       "    <tr>\n",
       "      <th>55-64</th>\n",
       "      <td>5.002101</td>\n",
       "      <td>0.099940</td>\n",
       "      <td>0.020073</td>\n",
       "      <td>0.166667</td>\n",
       "      <td>16</td>\n",
       "      <td>3</td>\n",
       "      <td>2.232905</td>\n",
       "      <td>0.314726</td>\n",
       "    </tr>\n",
       "    <tr>\n",
       "      <th>65+</th>\n",
       "      <td>4.986910</td>\n",
       "      <td>0.151563</td>\n",
       "      <td>0.030305</td>\n",
       "      <td>0.200000</td>\n",
       "      <td>16</td>\n",
       "      <td>4</td>\n",
       "      <td>2.236634</td>\n",
       "      <td>0.389456</td>\n",
       "    </tr>\n",
       "  </tbody>\n",
       "</table>\n",
       "</div>"
      ],
      "text/plain": [
       "           Impressions mean  Clicks mean       CTR  CTR quantile  \\\n",
       "age_group                                                          \n",
       "18-24              4.996505     0.050703  0.010121      0.000000   \n",
       "25-34              4.996425     0.049663  0.009916      0.000000   \n",
       "35-44              5.008378     0.050715  0.010311      0.000000   \n",
       "45-54              4.984925     0.048965  0.009949      0.000000   \n",
       "55-64              5.002101     0.099940  0.020073      0.166667   \n",
       "65+                4.986910     0.151563  0.030305      0.200000   \n",
       "\n",
       "           Impressions max  Clicks max  Impressions dispersion  \\\n",
       "age_group                                                        \n",
       "18-24                   18           2                2.227506   \n",
       "25-34                   17           3                2.229427   \n",
       "35-44                   19           3                2.238517   \n",
       "45-54                   16           3                2.225881   \n",
       "55-64                   16           3                2.232905   \n",
       "65+                     16           4                2.236634   \n",
       "\n",
       "           Clicks dispersion  \n",
       "age_group                     \n",
       "18-24               0.226175  \n",
       "25-34               0.224374  \n",
       "35-44               0.225372  \n",
       "45-54               0.221717  \n",
       "55-64               0.314726  \n",
       "65+                 0.389456  "
      ]
     },
     "execution_count": 26,
     "metadata": {},
     "output_type": "execute_result"
    }
   ],
   "source": [
    "analyze_day(3)"
   ]
  },
  {
   "cell_type": "code",
   "execution_count": 27,
   "metadata": {
    "collapsed": false
   },
   "outputs": [
    {
     "name": "stderr",
     "output_type": "stream",
     "text": [
      "/tmp/ipykernel_7255/971893923.py:5: SettingWithCopyWarning: \n",
      "A value is trying to be set on a copy of a slice from a DataFrame.\n",
      "Try using .loc[row_indexer,col_indexer] = value instead\n",
      "\n",
      "See the caveats in the documentation: https://pandas.pydata.org/pandas-docs/stable/user_guide/indexing.html#returning-a-view-versus-a-copy\n",
      "  grouped_age_data[\"age_group\"] = grouped_age_data.Age.apply(lambda x: group_by_age(x))\n",
      "/tmp/ipykernel_7255/971893923.py:12: FutureWarning: The default value of numeric_only in DataFrameGroupBy.mean is deprecated. In a future version, numeric_only will default to False. Either specify numeric_only or select only columns which should be valid for the function.\n",
      "  result_data_day = lab_data_day.groupby(\"age_group\").mean()\n"
     ]
    },
    {
     "data": {
      "text/html": [
       "<div>\n",
       "<style scoped>\n",
       "    .dataframe tbody tr th:only-of-type {\n",
       "        vertical-align: middle;\n",
       "    }\n",
       "\n",
       "    .dataframe tbody tr th {\n",
       "        vertical-align: top;\n",
       "    }\n",
       "\n",
       "    .dataframe thead th {\n",
       "        text-align: right;\n",
       "    }\n",
       "</style>\n",
       "<table border=\"1\" class=\"dataframe\">\n",
       "  <thead>\n",
       "    <tr style=\"text-align: right;\">\n",
       "      <th></th>\n",
       "      <th>Impressions mean</th>\n",
       "      <th>Clicks mean</th>\n",
       "      <th>CTR</th>\n",
       "      <th>CTR quantile</th>\n",
       "      <th>Impressions max</th>\n",
       "      <th>Clicks max</th>\n",
       "      <th>Impressions dispersion</th>\n",
       "      <th>Clicks dispersion</th>\n",
       "    </tr>\n",
       "    <tr>\n",
       "      <th>age_group</th>\n",
       "      <th></th>\n",
       "      <th></th>\n",
       "      <th></th>\n",
       "      <th></th>\n",
       "      <th></th>\n",
       "      <th></th>\n",
       "      <th></th>\n",
       "      <th></th>\n",
       "    </tr>\n",
       "  </thead>\n",
       "  <tbody>\n",
       "    <tr>\n",
       "      <th>18-24</th>\n",
       "      <td>4.998862</td>\n",
       "      <td>0.049008</td>\n",
       "      <td>0.009717</td>\n",
       "      <td>0.000000</td>\n",
       "      <td>16</td>\n",
       "      <td>3</td>\n",
       "      <td>2.251371</td>\n",
       "      <td>0.221623</td>\n",
       "    </tr>\n",
       "    <tr>\n",
       "      <th>25-34</th>\n",
       "      <td>4.994947</td>\n",
       "      <td>0.050135</td>\n",
       "      <td>0.010148</td>\n",
       "      <td>0.000000</td>\n",
       "      <td>17</td>\n",
       "      <td>3</td>\n",
       "      <td>2.240874</td>\n",
       "      <td>0.223034</td>\n",
       "    </tr>\n",
       "    <tr>\n",
       "      <th>35-44</th>\n",
       "      <td>4.997100</td>\n",
       "      <td>0.050827</td>\n",
       "      <td>0.010060</td>\n",
       "      <td>0.000000</td>\n",
       "      <td>17</td>\n",
       "      <td>3</td>\n",
       "      <td>2.232983</td>\n",
       "      <td>0.225663</td>\n",
       "    </tr>\n",
       "    <tr>\n",
       "      <th>45-54</th>\n",
       "      <td>4.987168</td>\n",
       "      <td>0.051295</td>\n",
       "      <td>0.010065</td>\n",
       "      <td>0.083333</td>\n",
       "      <td>17</td>\n",
       "      <td>3</td>\n",
       "      <td>2.233218</td>\n",
       "      <td>0.226401</td>\n",
       "    </tr>\n",
       "    <tr>\n",
       "      <th>55-64</th>\n",
       "      <td>5.007956</td>\n",
       "      <td>0.100752</td>\n",
       "      <td>0.020192</td>\n",
       "      <td>0.166667</td>\n",
       "      <td>17</td>\n",
       "      <td>3</td>\n",
       "      <td>2.233261</td>\n",
       "      <td>0.317994</td>\n",
       "    </tr>\n",
       "    <tr>\n",
       "      <th>65+</th>\n",
       "      <td>5.029751</td>\n",
       "      <td>0.149906</td>\n",
       "      <td>0.029551</td>\n",
       "      <td>0.200000</td>\n",
       "      <td>16</td>\n",
       "      <td>3</td>\n",
       "      <td>2.234815</td>\n",
       "      <td>0.387375</td>\n",
       "    </tr>\n",
       "  </tbody>\n",
       "</table>\n",
       "</div>"
      ],
      "text/plain": [
       "           Impressions mean  Clicks mean       CTR  CTR quantile  \\\n",
       "age_group                                                          \n",
       "18-24              4.998862     0.049008  0.009717      0.000000   \n",
       "25-34              4.994947     0.050135  0.010148      0.000000   \n",
       "35-44              4.997100     0.050827  0.010060      0.000000   \n",
       "45-54              4.987168     0.051295  0.010065      0.083333   \n",
       "55-64              5.007956     0.100752  0.020192      0.166667   \n",
       "65+                5.029751     0.149906  0.029551      0.200000   \n",
       "\n",
       "           Impressions max  Clicks max  Impressions dispersion  \\\n",
       "age_group                                                        \n",
       "18-24                   16           3                2.251371   \n",
       "25-34                   17           3                2.240874   \n",
       "35-44                   17           3                2.232983   \n",
       "45-54                   17           3                2.233218   \n",
       "55-64                   17           3                2.233261   \n",
       "65+                     16           3                2.234815   \n",
       "\n",
       "           Clicks dispersion  \n",
       "age_group                     \n",
       "18-24               0.221623  \n",
       "25-34               0.223034  \n",
       "35-44               0.225663  \n",
       "45-54               0.226401  \n",
       "55-64               0.317994  \n",
       "65+                 0.387375  "
      ]
     },
     "execution_count": 27,
     "metadata": {},
     "output_type": "execute_result"
    }
   ],
   "source": [
    "analyze_day(4)"
   ]
  },
  {
   "cell_type": "code",
   "execution_count": 28,
   "metadata": {
    "collapsed": false
   },
   "outputs": [
    {
     "name": "stderr",
     "output_type": "stream",
     "text": [
      "/tmp/ipykernel_7255/971893923.py:5: SettingWithCopyWarning: \n",
      "A value is trying to be set on a copy of a slice from a DataFrame.\n",
      "Try using .loc[row_indexer,col_indexer] = value instead\n",
      "\n",
      "See the caveats in the documentation: https://pandas.pydata.org/pandas-docs/stable/user_guide/indexing.html#returning-a-view-versus-a-copy\n",
      "  grouped_age_data[\"age_group\"] = grouped_age_data.Age.apply(lambda x: group_by_age(x))\n",
      "/tmp/ipykernel_7255/971893923.py:12: FutureWarning: The default value of numeric_only in DataFrameGroupBy.mean is deprecated. In a future version, numeric_only will default to False. Either specify numeric_only or select only columns which should be valid for the function.\n",
      "  result_data_day = lab_data_day.groupby(\"age_group\").mean()\n"
     ]
    },
    {
     "data": {
      "text/plain": [
       "<AxesSubplot: xlabel='age_group'>"
      ]
     },
     "execution_count": 28,
     "metadata": {},
     "output_type": "execute_result"
    },
    {
     "data": {
      "image/png": "[encoded data removed]",
      "text/plain": [
       "<Figure size 640x480 with 1 Axes>"
      ]
     },
     "metadata": {},
     "output_type": "display_data"
    }
   ],
   "source": [
    "ax = result_data.CTR.plot()\n",
    "analyze_day(2).CTR.plot(ax=ax)"
   ]
  },
  {
   "cell_type": "code",
   "execution_count": null,
   "metadata": {
    "collapsed": false
   },
   "outputs": [],
   "source": []
  }
 ],
 "metadata": {
  "kernelspec": {
   "display_name": "Python 3.10.4 64-bit",
   "language": "python",
   "name": "python3"
  },
  "language_info": {
   "codemirror_mode": {
    "name": "ipython",
    "version": 3
   },
   "file_extension": ".py",
   "mimetype": "text/x-python",
   "name": "python",
   "nbconvert_exporter": "python",
   "pygments_lexer": "ipython3",
   "version": "3.10.4"
  },
  "vscode": {
   "interpreter": {
    "hash": "3ad933181bd8a04b432d3370b9dc3b0662ad032c4dfaa4e4f1596c548f763858"
   }
  }
 },
 "nbformat": 4,
 "nbformat_minor": 0
}
